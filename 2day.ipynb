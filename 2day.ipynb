{
 "cells": [
  {
   "cell_type": "code",
   "execution_count": 206,
   "id": "91f06866-0473-43da-88c3-9eba0c2d4a9a",
   "metadata": {},
   "outputs": [
    {
     "name": "stdin",
     "output_type": "stream",
     "text": [
      "이름을 입력해주세요 박하률\n"
     ]
    },
    {
     "name": "stdout",
     "output_type": "stream",
     "text": [
      "제 이름은 박하률입니다.\n"
     ]
    }
   ],
   "source": [
    "# 입력 받을 변수 선언 및 함수 작성\n",
    "myName = input('이름을 입력해주세요')\n",
    "          \n",
    "# 출력할 경우 활용    \n",
    "print('제 이름은 '+ myName + '입니다.') "
   ]
  },
  {
   "cell_type": "code",
   "execution_count": 3,
   "id": "28f8b410-79c4-4efe-864b-4891188ab280",
   "metadata": {},
   "outputs": [
    {
     "name": "stdout",
     "output_type": "stream",
     "text": [
      "57\n",
      "12\n",
      "<class 'str'>\n"
     ]
    }
   ],
   "source": [
    "a = '5'\n",
    "b = '7'\n",
    "\n",
    "print(a + b)\n",
    "\n",
    "print('1' + '2')\n",
    "\n",
    "c = a + b\n",
    "\n",
    "print(type(c))"
   ]
  },
  {
   "cell_type": "code",
   "execution_count": 52,
   "id": "81d0e632-3dc7-403c-99d9-91245cee876e",
   "metadata": {},
   "outputs": [
    {
     "name": "stdin",
     "output_type": "stream",
     "text": [
      "이름을 입력하세요 박하률\n",
      "국어점수를 입력하세요 100\n",
      "수학점수를 입력하세요 60\n",
      "영어점수를 입력하세요 70\n"
     ]
    },
    {
     "name": "stdout",
     "output_type": "stream",
     "text": [
      "<class 'str'>\n",
      "<class 'str'>\n",
      "<class 'str'>\n",
      "<class 'int'>\n",
      "<class 'int'>\n",
      "<class 'int'>\n",
      "이름\t 국어 \t 영어 \t 수학\t 총점\t 평균\t\n",
      "--------------------------------------------------\n",
      "박하률\t 100\t  60\t 70\t 230\t 76.67\n"
     ]
    }
   ],
   "source": [
    "# input 일 경우 타입은 str로 변수 타입이 정해짐\n",
    "myName = input('이름을 입력하세요')\n",
    "x1 = int(input('국어점수를 입력하세요'))\n",
    "y1 = int(input('수학점수를 입력하세요'))\n",
    "z1 = int(input('영어점수를 입력하세요'))\n",
    "\n",
    "# 새로운 변수에 int 타입으로 변수를 변환\n",
    "# x1 = int(x)\n",
    "# y1 = int(y)\n",
    "# z1 = int(z)\n",
    "\n",
    "# 변수에 타입이 변환 됐는지 확인\n",
    "print(type(x))\n",
    "print(type(y))\n",
    "print(type(z))\n",
    "print(type(x1))\n",
    "print(type(y1))\n",
    "print(type(z1))\n",
    "\n",
    "# 실제 적용\n",
    "total = x1 + y1 + z1\n",
    "avg = total /3\n",
    "\n",
    "print ('이름\\t 국어 \\t 영어 \\t 수학\\t 총점\\t 평균\\t')\n",
    "print('-'*50)\n",
    "print('%s\\t %d\\t  %d\\t %d\\t %d\\t %.2f' %(myName, x1, y1, z1, total, avg))\n",
    "# %s = 문자열, %f = 실수  %d = 정수 %(변수이름작성) \\t는 띄어쓰기 \\n은 줄바꿈\n",
    "# print ('%s 합계는 %d  평균은 %.2f 입니다.' % (myName, total, avg))"
   ]
  },
  {
   "cell_type": "code",
   "execution_count": 62,
   "id": "8a5dcc20-4f0c-4c6d-89e1-cd5c5d28946f",
   "metadata": {},
   "outputs": [
    {
     "name": "stdout",
     "output_type": "stream",
     "text": [
      "True\n",
      "<class 'bool'>\n",
      "0\n"
     ]
    }
   ],
   "source": [
    "data = 10\n",
    "score = 100\n",
    "\n",
    "a = data < score\n",
    "# print( data > score)\n",
    "# print( data <= score)\n",
    "# print( data >= score)\n",
    "# print( data == score) _같으면 ture\n",
    "# print( data != score) _다르면 ture\n",
    "\n",
    "print(a)\n",
    "print(type(a))\n",
    "\n",
    "\n",
    "a = score % data\n",
    "\n",
    "# a // b 나누기(몫)연산자\n",
    "# a % b  나눈 나머지연산자\n",
    "# a ** 2 제곱연산자\n",
    "\n",
    "print(a)"
   ]
  },
  {
   "cell_type": "code",
   "execution_count": 61,
   "id": "49263057-0426-4a06-aa12-9c90de358955",
   "metadata": {},
   "outputs": [
    {
     "name": "stdout",
     "output_type": "stream",
     "text": [
      "True\n",
      "True\n"
     ]
    }
   ],
   "source": [
    "score = 10\n",
    "print( score >= 0 and score <= 100)\n",
    "\n",
    "print( score >= 0 or score <= 100)\n"
   ]
  },
  {
   "cell_type": "code",
   "execution_count": 66,
   "id": "f7639da9-45eb-44ae-af21-9365b76f7878",
   "metadata": {},
   "outputs": [
    {
     "name": "stdin",
     "output_type": "stream",
     "text": [
      "국어 점수를 입력하세요 100\n",
      "만점 점수를 입력하세요 100\n"
     ]
    },
    {
     "name": "stdout",
     "output_type": "stream",
     "text": [
      "True\n"
     ]
    }
   ],
   "source": [
    "point = int(input('국어 점수를 입력하세요'))\n",
    "mAx = int(input('만점 점수를 입력하세요'))\n",
    "\n",
    "print(mAx <= point)"
   ]
  },
  {
   "cell_type": "code",
   "execution_count": 82,
   "id": "e62afc2c-22a7-4f03-8408-046df3190c2c",
   "metadata": {},
   "outputs": [
    {
     "name": "stdin",
     "output_type": "stream",
     "text": [
      "당신의 나이는 몇살입니까? 나이를 입력하시오. 60\n"
     ]
    },
    {
     "name": "stdout",
     "output_type": "stream",
     "text": [
      "노년입니다.\n",
      "당신은 60살 입니다.\n"
     ]
    }
   ],
   "source": [
    "age = int(input('당신의 나이는 몇살입니까? 나이를 입력하시오.'))\n",
    "\n",
    "if(age >= 60) :\n",
    "    print('노년입니다.')\n",
    "    print('당신은 %d살 입니다.'%age)\n",
    "elif (age >= 40) :\n",
    "    print('중년입니다.')\n",
    "    print('당신은 %d살 입니다.'%age)    \n",
    "elif (age >= 20) :\n",
    "    print('청년입니다.')\n",
    "    print('당신은 %d살 입니다.'%age)\n",
    "else:\n",
    "    print('당신은 성인이 아닙니다.')"
   ]
  },
  {
   "cell_type": "code",
   "execution_count": 88,
   "id": "46396b28-40ba-4252-9bf2-4a6708250004",
   "metadata": {},
   "outputs": [
    {
     "name": "stdin",
     "output_type": "stream",
     "text": [
      "시험점수를 기재해주세요. 2\n"
     ]
    },
    {
     "name": "stdout",
     "output_type": "stream",
     "text": [
      "죄송합니다. 불합격입니다.\n"
     ]
    }
   ],
   "source": [
    "result = int(input('시험점수를 기재해주세요.'))\n",
    "             \n",
    "if(result >= 100) :\n",
    "     print('축하합니다! 당신의 점수는 수 입니다.')\n",
    "elif(result >= 90) :\n",
    "     print('당신의 점수는 우 입니다.')\n",
    "elif(result >= 80) :\n",
    "     print('당신의 점수는 미 입니다.')\n",
    "elif(result >= 70) :\n",
    "     print('노력하세요, 당신의 점수는 양입니다.')\n",
    "elif(result >= 60) :\n",
    "     print('노력하세요, 당신의 점수는 가입니다.')\n",
    "else :\n",
    "    print('죄송합니다. 불합격입니다.')\n"
   ]
  },
  {
   "cell_type": "code",
   "execution_count": 96,
   "id": "3821be94-6d0f-4a26-8773-dee218d99813",
   "metadata": {},
   "outputs": [
    {
     "name": "stdin",
     "output_type": "stream",
     "text": [
      "홀수 및 짝수를 기입해주세요. 5\n"
     ]
    },
    {
     "name": "stdout",
     "output_type": "stream",
     "text": [
      "홀수를 기입하셨군요!\n",
      "1  | 2로 나눠진 수 입니다.\n"
     ]
    }
   ],
   "source": [
    "num = int(input('홀수 및 짝수를 기입해주세요.'))\n",
    "\n",
    "if (num % 2 == 0 ) :\n",
    "    print ('짝수를 기입하셨군요!')\n",
    "else :\n",
    "    print ('홀수를 기입하셨군요!')\n",
    "    \n",
    "num1 = num % 2    \n",
    "print ('%d  | 2로 나눠진 수 입니다.' %num1)"
   ]
  },
  {
   "cell_type": "code",
   "execution_count": 100,
   "id": "b05de71f-740e-40fb-b349-ed1a32abb1c5",
   "metadata": {},
   "outputs": [
    {
     "name": "stdin",
     "output_type": "stream",
     "text": [
      "당신이 어떤 숫자를 기입하는지 설명드릴게요 2\n"
     ]
    },
    {
     "name": "stdout",
     "output_type": "stream",
     "text": [
      "기입한 수는 짝수입니다.\n"
     ]
    }
   ],
   "source": [
    "num = int(input('당신이 어떤 숫자를 기입하는지 설명드릴게요'))\n",
    "\n",
    "if (num > 0) :\n",
    "    if (num % 2 == 0) :\n",
    "        print('기입한 수는 짝수입니다.')\n",
    "    else :\n",
    "        print('기입한 수는 홀수입니다.')\n",
    "else :\n",
    "    print('음수를 넣으셨군요..!')"
   ]
  },
  {
   "cell_type": "code",
   "execution_count": 111,
   "id": "b2c7fccc-11bf-4010-9b7f-575d011fef47",
   "metadata": {},
   "outputs": [
    {
     "name": "stdout",
     "output_type": "stream",
     "text": [
      "1\n",
      "2\n",
      "3\n",
      "4\n",
      "5\n",
      "6\n",
      "7\n",
      "8\n",
      "9\n",
      "10\n"
     ]
    }
   ],
   "source": [
    "i = 1\n",
    "\n",
    "while (i <= 10) :\n",
    "    print(i) \n",
    "    i = i + 1"
   ]
  },
  {
   "cell_type": "code",
   "execution_count": 207,
   "id": "e080d01e-f189-4895-a050-e23d6b9e8cdd",
   "metadata": {},
   "outputs": [
    {
     "name": "stdout",
     "output_type": "stream",
     "text": [
      "hello1\n",
      "hello2\n",
      "hello3\n",
      "hello4\n",
      "hello5\n",
      "hello6\n",
      "hello7\n",
      "hello8\n",
      "hello9\n",
      "hello10\n"
     ]
    }
   ],
   "source": [
    "i = 1    \n",
    "    \n",
    "while (i <= 10) :\n",
    "    print('hello%d' %i )\n",
    "    i = i + 1"
   ]
  },
  {
   "cell_type": "code",
   "execution_count": 124,
   "id": "5999c25c-acfb-40d7-a7c1-c0a3760c8053",
   "metadata": {},
   "outputs": [
    {
     "name": "stdout",
     "output_type": "stream",
     "text": [
      "5\n",
      "10\n",
      "15\n",
      "20\n",
      "25\n",
      "30\n",
      "35\n",
      "40\n",
      "45\n",
      "50\n",
      "55\n",
      "60\n",
      "65\n",
      "70\n",
      "75\n",
      "80\n",
      "85\n",
      "90\n",
      "95\n",
      "100\n"
     ]
    }
   ],
   "source": [
    "i = 1\n",
    "\n",
    "while (i <=100) :\n",
    "    if((i % 5) == 0) :\n",
    "        print (i)\n",
    "    i = i + 1"
   ]
  },
  {
   "cell_type": "code",
   "execution_count": 126,
   "id": "4e201400-432c-4dd0-b21b-b77b0daffe59",
   "metadata": {},
   "outputs": [
    {
     "data": {
      "text/plain": [
       "range(0, 10)"
      ]
     },
     "execution_count": 126,
     "metadata": {},
     "output_type": "execute_result"
    }
   ],
   "source": [
    "range(10)"
   ]
  },
  {
   "cell_type": "code",
   "execution_count": 139,
   "id": "6e8b932e-02aa-444e-a497-0a64c13e6349",
   "metadata": {},
   "outputs": [
    {
     "name": "stdout",
     "output_type": "stream",
     "text": [
      "1\n",
      "2\n",
      "3\n",
      "4\n",
      "5\n",
      "6\n",
      "7\n",
      "8\n",
      "9\n",
      "10\n"
     ]
    }
   ],
   "source": [
    "\n",
    "for i in range(10) :\n",
    "    print(i+1)"
   ]
  },
  {
   "cell_type": "code",
   "execution_count": 171,
   "id": "bb65d989-1162-4490-9fc5-b4119efe22a8",
   "metadata": {},
   "outputs": [
    {
     "name": "stdout",
     "output_type": "stream",
     "text": [
      "['사과', '배', '귤', '포도', '바나나', '파인애플', '아보카도']\n",
      "7\n",
      "<class 'list'>\n",
      "사과\n",
      "<class 'str'>\n",
      "사과\n",
      "배\n",
      "귤\n",
      "포도\n",
      "바나나\n",
      "파인애플\n",
      "아보카도\n",
      "나는사과을 좋아합니다.\n",
      "['귤', '포도', '바나나', '파인애플', '아보카도']\n",
      "['오렌지', '배', '귤', '포도', '바나나', '파인애플', '아보카도']\n"
     ]
    },
    {
     "name": "stdin",
     "output_type": "stream",
     "text": [
      "좋아하는 과일을 적어보세요 딸기\n"
     ]
    },
    {
     "name": "stdout",
     "output_type": "stream",
     "text": [
      "딸기\n"
     ]
    }
   ],
   "source": [
    "fruits=['사과','배','귤','포도','바나나','파인애플','아보카도']\n",
    "\n",
    "print(fruits)\n",
    "print(len(fruits))\n",
    "print(type(fruits))\n",
    "\n",
    "print(fruits[0])\n",
    "fruits[1]\n",
    "\n",
    "print(type(fruits[0]))\n",
    "\n",
    "for H in fruits :\n",
    "    print(H)\n",
    "    \n",
    "print('나는' + fruits[0] + '을 좋아합니다.')\n",
    "\n",
    "print(fruits[2:])\n",
    "\n",
    "fruits[0] = '오렌지'\n",
    "\n",
    "print(fruits)\n",
    "\n",
    "fruits[5] = input('좋아하는 과일을 적어보세요')\n",
    "print(fruits[5])"
   ]
  },
  {
   "cell_type": "code",
   "execution_count": 203,
   "id": "c4d2aac7-1f9a-4af9-88d6-10986ee7f175",
   "metadata": {},
   "outputs": [
    {
     "name": "stdout",
     "output_type": "stream",
     "text": [
      "[1, 2, 3, 4, 5, 6, 7, 8, 9, 10]\n",
      "<class 'list'>\n",
      "5\n",
      "<class 'int'>\n",
      "10\n"
     ]
    }
   ],
   "source": [
    "num=[1,2,3,4,5,6,7,8,9,10]\n",
    "\n",
    "print(num)\n",
    "print(type(num))\n",
    "print(num[4]) #4번째꺼 print\n",
    "print(type(num[4])) #타입 측정\n",
    "print(len(num)) #길이 측정"
   ]
  },
  {
   "cell_type": "code",
   "execution_count": null,
   "id": "3fd8778e-2b78-4209-8b2e-7533cb6bc7e4",
   "metadata": {},
   "outputs": [],
   "source": [
    "sUm = 0\n",
    "for q in num :\n",
    "    sUm = sUm + q\n",
    "    \n",
    "print(sUm)\n",
    "\n",
    "     \n",
    "if num % 2 == 0 :\n",
    "    print(num)\n",
    "    \n",
    "        \n",
    "# q1 = int(q)    \n",
    "    \n",
    "# print(i = i + q1)"
   ]
  },
  {
   "cell_type": "code",
   "execution_count": 202,
   "id": "c6628176-1f3c-4122-bd4f-fc174482238b",
   "metadata": {},
   "outputs": [
    {
     "name": "stdout",
     "output_type": "stream",
     "text": [
      "25\n",
      "5\n"
     ]
    }
   ],
   "source": [
    "num=[1,2,3,4,5,6,7,8,9,10]\n",
    "\n",
    "sUm = 0\n",
    "cnt = 0 #변수 초기화\n",
    "\n",
    "for q in num :\n",
    "    \n",
    "    if(q % 2 != 0 ) : #짝수 일경우로 축약\n",
    "        #print(q)     # 짝수의 수 print\n",
    "        sUm = sUm + q # 짝수의 합\n",
    "        cnt = cnt + 1 # 짝수의 개수\n",
    "        \n",
    "print(sUm) #짝수 일 때의 숫자 합\n",
    "print(cnt) #짝수 일 때의 1을 더함으로써 for문이 조건에 맞게 돈 횟수, 즉 짝수의 개수"
   ]
  },
  {
   "cell_type": "code",
   "execution_count": 211,
   "id": "da1e0d5c-7a1a-4412-86a1-a3358502812c",
   "metadata": {},
   "outputs": [
    {
     "name": "stdout",
     "output_type": "stream",
     "text": [
      "592\n",
      "4\n"
     ]
    }
   ],
   "source": [
    "point = [12,124,453,5,99,6,35,0]\n",
    "\n",
    "er = 0\n",
    "vf = 0\n",
    "\n",
    "for hp in point :\n",
    "    if hp % 2 != 0 :\n",
    "        er = er + hp\n",
    "        vf = vf + 1\n",
    "        \n",
    "print(er) #홀수의 합        \n",
    "print(vf) #홀수의 개수"
   ]
  },
  {
   "cell_type": "code",
   "execution_count": 215,
   "id": "d91e297c-6da4-434f-b0f7-63494ca25def",
   "metadata": {},
   "outputs": [
    {
     "name": "stdout",
     "output_type": "stream",
     "text": [
      "5\n",
      "4\n",
      "3\n",
      "2\n",
      "1\n",
      "hey!\n"
     ]
    }
   ],
   "source": [
    "for hi in 5,4,3,2,1, \"hey!\" :\n",
    "    print(hi)"
   ]
  }
 ],
 "metadata": {
  "kernelspec": {
   "display_name": "Python 3 (ipykernel)",
   "language": "python",
   "name": "python3"
  },
  "language_info": {
   "codemirror_mode": {
    "name": "ipython",
    "version": 3
   },
   "file_extension": ".py",
   "mimetype": "text/x-python",
   "name": "python",
   "nbconvert_exporter": "python",
   "pygments_lexer": "ipython3",
   "version": "3.9.7"
  }
 },
 "nbformat": 4,
 "nbformat_minor": 5
}
