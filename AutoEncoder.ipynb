{
 "cells": [
  {
   "cell_type": "code",
   "execution_count": 4,
   "id": "9278086a",
   "metadata": {},
   "outputs": [],
   "source": [
    "from tensorflow.keras.datasets import mnist\n",
    "from tensorflow.keras import models, layers\n",
    "import numpy as np\n",
    "import tensorflow as tf\n",
    "import matplotlib.pyplot as plt"
   ]
  },
  {
   "cell_type": "code",
   "execution_count": 5,
   "id": "9b472c6c",
   "metadata": {},
   "outputs": [],
   "source": [
    "(X_train, _), (X_test, _) = mnist.load_data()\n",
    "X_train = X_train.reshape(X_train.shape[0], 28, 28, 1).astype(float) / 255 \n",
    "X_test = X_test.reshape(X_test.shape[0], 28, 28, 1).astype(float) / 255 "
   ]
  },
  {
   "cell_type": "code",
   "execution_count": 6,
   "id": "052e6c3c",
   "metadata": {},
   "outputs": [],
   "source": [
    "autoencoder = models.Sequential()\n",
    "#인코더\n",
    "autoencoder.add(layers.Conv2D(16, kernel_size=3, padding='same', input_shape=(28, 28, 1),\n",
    "                             activation='relu'))\n",
    "autoencoder.add(layers.MaxPooling2D(pool_size=2))\n",
    "autoencoder.add(layers.Conv2D(18, kernel_size=3, padding='same', activation='relu'))\n",
    "autoencoder.add(layers.MaxPooling2D(pool_size=2))\n",
    "autoencoder.add(layers.Conv2D(18, kernel_size=3, strides=2, padding='same', activation='relu'))\n",
    "\n",
    "#디코더\n",
    "autoencoder.add(layers.Conv2D(8, kernel_size=3, padding='same', activation='relu'))\n",
    "autoencoder.add(layers.UpSampling2D())\n",
    "autoencoder.add(layers.Conv2D(8, kernel_size=3, padding='same', activation='relu'))\n",
    "autoencoder.add(layers.UpSampling2D())\n",
    "autoencoder.add(layers.Conv2D(16, kernel_size=3, activation='relu'))\n",
    "autoencoder.add(layers.UpSampling2D())\n",
    "autoencoder.add(layers.Conv2D(1, kernel_size=3, padding='same', activation='relu'))"
   ]
  },
  {
   "cell_type": "code",
   "execution_count": 7,
   "id": "db596f73",
   "metadata": {
    "scrolled": true
   },
   "outputs": [
    {
     "name": "stdout",
     "output_type": "stream",
     "text": [
      "Model: \"sequential\"\n",
      "_________________________________________________________________\n",
      "Layer (type)                 Output Shape              Param #   \n",
      "=================================================================\n",
      "conv2d (Conv2D)              (None, 28, 28, 16)        160       \n",
      "_________________________________________________________________\n",
      "max_pooling2d (MaxPooling2D) (None, 14, 14, 16)        0         \n",
      "_________________________________________________________________\n",
      "conv2d_1 (Conv2D)            (None, 14, 14, 18)        2610      \n",
      "_________________________________________________________________\n",
      "max_pooling2d_1 (MaxPooling2 (None, 7, 7, 18)          0         \n",
      "_________________________________________________________________\n",
      "conv2d_2 (Conv2D)            (None, 4, 4, 18)          2934      \n",
      "_________________________________________________________________\n",
      "conv2d_3 (Conv2D)            (None, 4, 4, 8)           1304      \n",
      "_________________________________________________________________\n",
      "up_sampling2d (UpSampling2D) (None, 8, 8, 8)           0         \n",
      "_________________________________________________________________\n",
      "conv2d_4 (Conv2D)            (None, 8, 8, 8)           584       \n",
      "_________________________________________________________________\n",
      "up_sampling2d_1 (UpSampling2 (None, 16, 16, 8)         0         \n",
      "_________________________________________________________________\n",
      "conv2d_5 (Conv2D)            (None, 14, 14, 16)        1168      \n",
      "_________________________________________________________________\n",
      "up_sampling2d_2 (UpSampling2 (None, 28, 28, 16)        0         \n",
      "_________________________________________________________________\n",
      "conv2d_6 (Conv2D)            (None, 28, 28, 1)         145       \n",
      "=================================================================\n",
      "Total params: 8,905\n",
      "Trainable params: 8,905\n",
      "Non-trainable params: 0\n",
      "_________________________________________________________________\n"
     ]
    }
   ],
   "source": [
    "autoencoder.summary()"
   ]
  },
  {
   "cell_type": "code",
   "execution_count": 8,
   "id": "c247299c",
   "metadata": {
    "scrolled": true
   },
   "outputs": [
    {
     "name": "stdout",
     "output_type": "stream",
     "text": [
      "Epoch 1/50\n",
      "469/469 [==============================] - 38s 81ms/step - loss: 0.2281 - val_loss: 0.2039\n",
      "Epoch 2/50\n",
      "469/469 [==============================] - 39s 82ms/step - loss: 0.1794 - val_loss: 0.1922\n",
      "Epoch 3/50\n",
      "469/469 [==============================] - 39s 83ms/step - loss: 0.1758 - val_loss: 0.2620\n",
      "Epoch 4/50\n",
      "469/469 [==============================] - 38s 82ms/step - loss: 0.1771 - val_loss: 0.2166\n",
      "Epoch 5/50\n",
      "469/469 [==============================] - 41s 88ms/step - loss: 0.1713 - val_loss: 0.2288\n",
      "Epoch 6/50\n",
      "469/469 [==============================] - 38s 80ms/step - loss: 0.1650 - val_loss: 0.1805\n",
      "Epoch 7/50\n",
      "469/469 [==============================] - 36s 77ms/step - loss: 0.1658 - val_loss: 0.1871\n",
      "Epoch 8/50\n",
      "469/469 [==============================] - 35s 75ms/step - loss: 0.1906 - val_loss: 0.1906\n",
      "Epoch 9/50\n",
      "469/469 [==============================] - 35s 75ms/step - loss: 0.1615 - val_loss: 0.1940\n",
      "Epoch 10/50\n",
      "469/469 [==============================] - 36s 76ms/step - loss: 0.1527 - val_loss: 0.2033\n",
      "Epoch 11/50\n",
      "469/469 [==============================] - 35s 75ms/step - loss: 0.1775 - val_loss: 0.1447\n",
      "Epoch 12/50\n",
      "469/469 [==============================] - 35s 75ms/step - loss: 0.1493 - val_loss: 0.1520\n",
      "Epoch 13/50\n",
      "469/469 [==============================] - 35s 75ms/step - loss: 0.1472 - val_loss: 0.1349\n",
      "Epoch 14/50\n",
      "469/469 [==============================] - 35s 75ms/step - loss: 0.1673 - val_loss: 0.1633\n",
      "Epoch 15/50\n",
      "469/469 [==============================] - 35s 75ms/step - loss: 0.2003 - val_loss: 0.1536\n",
      "Epoch 16/50\n",
      "469/469 [==============================] - 35s 75ms/step - loss: 0.1458 - val_loss: 0.1383\n",
      "Epoch 17/50\n",
      "469/469 [==============================] - 36s 77ms/step - loss: 0.1392 - val_loss: 0.1359\n",
      "Epoch 18/50\n",
      "469/469 [==============================] - 35s 75ms/step - loss: 0.1516 - val_loss: 0.1324\n",
      "Epoch 19/50\n",
      "469/469 [==============================] - 35s 75ms/step - loss: 0.1315 - val_loss: 0.1304\n",
      "Epoch 20/50\n",
      "469/469 [==============================] - 35s 75ms/step - loss: 0.1326 - val_loss: 0.1234\n",
      "Epoch 21/50\n",
      "469/469 [==============================] - 35s 75ms/step - loss: 0.1304 - val_loss: 0.1226\n",
      "Epoch 22/50\n",
      "469/469 [==============================] - 36s 76ms/step - loss: 0.1332 - val_loss: 0.1295\n",
      "Epoch 23/50\n",
      "469/469 [==============================] - 35s 75ms/step - loss: 0.1531 - val_loss: 0.1251\n",
      "Epoch 24/50\n",
      "469/469 [==============================] - 35s 75ms/step - loss: 0.1285 - val_loss: 0.1374\n",
      "Epoch 25/50\n",
      "469/469 [==============================] - 35s 75ms/step - loss: 0.1411 - val_loss: 0.1410\n",
      "Epoch 26/50\n",
      "469/469 [==============================] - 36s 77ms/step - loss: 0.1339 - val_loss: 0.1204\n",
      "Epoch 27/50\n",
      "469/469 [==============================] - 36s 76ms/step - loss: 0.1390 - val_loss: 0.1200\n",
      "Epoch 28/50\n",
      "469/469 [==============================] - 36s 76ms/step - loss: 0.1334 - val_loss: 0.1236\n",
      "Epoch 29/50\n",
      "469/469 [==============================] - 35s 75ms/step - loss: 0.1308 - val_loss: 0.1299\n",
      "Epoch 30/50\n",
      "469/469 [==============================] - 35s 75ms/step - loss: 0.1331 - val_loss: 0.1192\n",
      "Epoch 31/50\n",
      "469/469 [==============================] - 37s 78ms/step - loss: 0.1435 - val_loss: 0.1188\n",
      "Epoch 32/50\n",
      "469/469 [==============================] - 37s 78ms/step - loss: 0.1219 - val_loss: 0.1162\n",
      "Epoch 33/50\n",
      "469/469 [==============================] - 47s 100ms/step - loss: 0.1208 - val_loss: 0.1164\n",
      "Epoch 34/50\n",
      "469/469 [==============================] - 45s 95ms/step - loss: 0.1174 - val_loss: 0.1141\n",
      "Epoch 35/50\n",
      "469/469 [==============================] - 46s 99ms/step - loss: 0.1382 - val_loss: 0.1299\n",
      "Epoch 36/50\n",
      "469/469 [==============================] - 40s 85ms/step - loss: 0.1195 - val_loss: 0.1123\n",
      "Epoch 37/50\n",
      "469/469 [==============================] - 39s 84ms/step - loss: 0.1143 - val_loss: 0.1106\n",
      "Epoch 38/50\n",
      "469/469 [==============================] - 39s 84ms/step - loss: 0.1192 - val_loss: 0.1137\n",
      "Epoch 39/50\n",
      "469/469 [==============================] - 39s 84ms/step - loss: 0.1631 - val_loss: 0.1999\n",
      "Epoch 40/50\n",
      "469/469 [==============================] - 39s 84ms/step - loss: 0.1579 - val_loss: 0.1329\n",
      "Epoch 41/50\n",
      "469/469 [==============================] - 41s 88ms/step - loss: 0.1334 - val_loss: 0.1246\n",
      "Epoch 42/50\n",
      "469/469 [==============================] - 42s 89ms/step - loss: 0.1411 - val_loss: 0.1231\n",
      "Epoch 43/50\n",
      "469/469 [==============================] - 40s 85ms/step - loss: 0.1260 - val_loss: 0.1233\n",
      "Epoch 44/50\n",
      "469/469 [==============================] - 39s 83ms/step - loss: 0.1447 - val_loss: 0.2489\n",
      "Epoch 45/50\n",
      "469/469 [==============================] - 41s 87ms/step - loss: 0.1493 - val_loss: 0.1296\n",
      "Epoch 46/50\n",
      "469/469 [==============================] - 43s 91ms/step - loss: 0.1313 - val_loss: 0.1215\n",
      "Epoch 47/50\n",
      "469/469 [==============================] - 41s 88ms/step - loss: 0.1188 - val_loss: 0.1271\n",
      "Epoch 48/50\n",
      "469/469 [==============================] - 36s 77ms/step - loss: 0.1585 - val_loss: 0.1379\n",
      "Epoch 49/50\n",
      "469/469 [==============================] - 36s 77ms/step - loss: 0.1708 - val_loss: 0.1765\n",
      "Epoch 50/50\n",
      "469/469 [==============================] - 36s 78ms/step - loss: 0.1471 - val_loss: 0.1290\n"
     ]
    },
    {
     "data": {
      "text/plain": [
       "<tensorflow.python.keras.callbacks.History at 0x1b6cb16f9d0>"
      ]
     },
     "execution_count": 8,
     "metadata": {},
     "output_type": "execute_result"
    }
   ],
   "source": [
    "autoencoder.compile(loss='binary_crossentropy', optimizer='adam')\n",
    "autoencoder.fit(X_train, X_train, epochs=50, batch_size=128, validation_data=(X_test, X_test))"
   ]
  },
  {
   "cell_type": "code",
   "execution_count": 11,
   "id": "05a3fcf0",
   "metadata": {},
   "outputs": [
    {
     "data": {
      "image/png": "[encoded data removed]",
      "text/plain": [
       "<Figure size 504x144 with 10 Axes>"
      ]
     },
     "metadata": {
      "needs_background": "light"
     },
     "output_type": "display_data"
    }
   ],
   "source": [
    "random_test = np.random.randint(X_test.shape[0], size=5)\n",
    "ae_imgs = autoencoder.predict(X_test)\n",
    "plt.figure(figsize=(7, 2))\n",
    "for i, image_idx in enumerate(random_test):\n",
    "    ax = plt.subplot(2, 7, i + 1) \n",
    "    plt.imshow(X_test[image_idx].reshape(28, 28))  #테스트할 이미지를 먼저 그대로 보여줍니다.\n",
    "    ax.axis('off')\n",
    "    ax = plt.subplot(2, 7, 7 + i +1)\n",
    "    plt.imshow(ae_imgs[image_idx].reshape(28, 28))  #오토인코딩 결과를 다음열에 출력합니다.\n",
    "    ax.axis('off')\n",
    "\n",
    "\n",
    "plt.show()"
   ]
  },
  {
   "cell_type": "code",
   "execution_count": null,
   "id": "ae24bd39",
   "metadata": {},
   "outputs": [],
   "source": []
  }
 ],
 "metadata": {
  "kernelspec": {
   "display_name": "Python 3 (ipykernel)",
   "language": "python",
   "name": "python3"
  },
  "language_info": {
   "codemirror_mode": {
    "name": "ipython",
    "version": 3
   },
   "file_extension": ".py",
   "mimetype": "text/x-python",
   "name": "python",
   "nbconvert_exporter": "python",
   "pygments_lexer": "ipython3",
   "version": "3.8.13"
  }
 },
 "nbformat": 4,
 "nbformat_minor": 5
}
