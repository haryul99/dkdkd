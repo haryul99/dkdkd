{
 "cells": [
  {
   "cell_type": "code",
   "execution_count": 24,
   "id": "058c2923-72ce-4e47-808e-de5bd5d4e648",
   "metadata": {},
   "outputs": [
    {
     "name": "stdout",
     "output_type": "stream",
     "text": [
      "[[7 8 6]\n",
      " [8 1 5]]\n",
      "[[3 8 5]\n",
      " [1 1 3]]\n",
      "----------\n",
      "[[10 16 11]\n",
      " [ 9  2  8]]\n",
      "----------\n",
      "[[4 0 1]\n",
      " [7 0 2]]\n",
      "----------\n",
      "[[21 64 30]\n",
      " [ 8  1 15]]\n",
      "----------\n",
      "[[2.33333333 1.         1.2       ]\n",
      " [8.         1.         1.66666667]]\n",
      "----------\n",
      "[[35 40 30]\n",
      " [40  5 25]]\n",
      "----------\n",
      "[[ True False  True]\n",
      " [ True False  True]]\n"
     ]
    }
   ],
   "source": [
    "import numpy as np\n",
    "\n",
    "a = numpy.random.randint(1, 10, (2, 3))\n",
    "b = np.random.randint(1, 10, (2, 3))\n",
    "\n",
    "print(a)\n",
    "print(b)\n",
    "print( '-' *10)\n",
    "\n",
    "print(a+b)\n",
    "print('-' * 10)\n",
    "\n",
    "print(a-b)\n",
    "print('-' * 10)\n",
    "\n",
    "print(a*b)\n",
    "print('-' * 10)\n",
    "\n",
    "print(a / b)\n",
    "print('-' * 10)\n",
    "\n",
    "print(a * 5)\n",
    "print('-' * 10)\n",
    "\n",
    "print(a > b)"
   ]
  },
  {
   "cell_type": "code",
   "execution_count": 11,
   "id": "f7fc77f5-7df6-4b4f-809a-d0e4562fadfa",
   "metadata": {},
   "outputs": [
    {
     "name": "stdout",
     "output_type": "stream",
     "text": [
      "['ap' 'ba' 'ch']\n"
     ]
    }
   ],
   "source": [
    "arr = np.array(['ba','ch','ap'])\n",
    "\n",
    "print(np.sort(arr)) #정렬"
   ]
  },
  {
   "cell_type": "code",
   "execution_count": 15,
   "id": "cd9779c7-64af-4a69-a3f0-37e695cc7370",
   "metadata": {},
   "outputs": [
    {
     "name": "stdout",
     "output_type": "stream",
     "text": [
      "[[ 1  2  3]\n",
      " [ 4  5  6]\n",
      " [ 7  8  9]\n",
      " [10 11 12]\n",
      " [13 14 15]\n",
      " [16 17 18]]\n",
      "--------------------\n",
      "9.5\n",
      "171\n",
      "5.188127472091127\n",
      "26.916666666666668\n",
      "1\n",
      "18\n"
     ]
    }
   ],
   "source": [
    "arr = np.array([[1, 2, 3], [4, 5, 6], [7, 8, 9], [10, 11, 12], [13, 14, 15], [16, 17, 18]])\n",
    "\n",
    "print(arr)\n",
    "print('-' * 20)\n",
    "\n",
    "print(arr.mean())  #평균\n",
    "print(arr.sum()) #더하기\n",
    "print(arr.std()) #편차\n",
    "print(arr.var())\n",
    "print(arr.min()) #최소값\n",
    "print(arr.max()) #최대값"
   ]
  },
  {
   "cell_type": "code",
   "execution_count": 19,
   "id": "59dace0a-d651-4795-9843-80b542076c55",
   "metadata": {},
   "outputs": [
    {
     "name": "stdout",
     "output_type": "stream",
     "text": [
      "[0 1 2 3 4 5 6 7 8 9]\n",
      "[0.         1.         1.41421356 1.73205081 2.         2.23606798\n",
      " 2.44948974 2.64575131 2.82842712 3.        ]\n",
      "[1.00000000e+00 2.71828183e+00 7.38905610e+00 2.00855369e+01\n",
      " 5.45981500e+01 1.48413159e+02 4.03428793e+02 1.09663316e+03\n",
      " 2.98095799e+03 8.10308393e+03]\n"
     ]
    }
   ],
   "source": [
    "# sqrt 제곱근 exp지수함수\n",
    "\n",
    "arr = np.arange(10)\n",
    "\n",
    "print(arr)\n",
    "\n",
    "print(np.sqrt(arr))\n",
    "print(np.exp(arr))"
   ]
  },
  {
   "cell_type": "code",
   "execution_count": 23,
   "id": "245435e1-ec82-4093-a4c4-92a599d1ee86",
   "metadata": {},
   "outputs": [
    {
     "name": "stdout",
     "output_type": "stream",
     "text": [
      "[[3 7 7]\n",
      " [1 5 2]]\n"
     ]
    }
   ],
   "source": [
    "a = np.random.randint(0, 10, (2, 3))\n",
    "print(a)\n",
    "np.savetxt(\"./data/score.csv\", a)                     "
   ]
  }
 ],
 "metadata": {
  "kernelspec": {
   "display_name": "Python 3 (ipykernel)",
   "language": "python",
   "name": "python3"
  },
  "language_info": {
   "codemirror_mode": {
    "name": "ipython",
    "version": 3
   },
   "file_extension": ".py",
   "mimetype": "text/x-python",
   "name": "python",
   "nbconvert_exporter": "python",
   "pygments_lexer": "ipython3",
   "version": "3.9.7"
  }
 },
 "nbformat": 4,
 "nbformat_minor": 5
}
