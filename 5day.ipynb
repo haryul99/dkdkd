{
 "cells": [
  {
   "cell_type": "code",
   "execution_count": 321,
   "id": "78763c09-ace8-49cf-b87a-eaeb00f2cf43",
   "metadata": {},
   "outputs": [],
   "source": [
    "class Account() : \n",
    "    account_cnt = 0\n",
    "    \n",
    "    def __init__(self, num, balance) : #외부에서 받는다는 뜻\n",
    "        self.__num = num     #계좌번호 인스턴스 객체별로 하나씩 만들어짐\n",
    "        self.__balance = balance  #잔액\n",
    "        Account.account_cnt = Account.account_cnt + 1\n",
    "\n",
    "    def set_num(self, num) : \n",
    "        self.__num = num\n",
    "        \n",
    "    def get_num(self) :\n",
    "        return self.__num\n",
    "\n",
    "    def get_balance(self) :\n",
    "        return self.__balance\n",
    "    \n",
    "    def set_balance(self, balance) :\n",
    "        self.__balance = balance\n",
    "\n",
    "    #입금\n",
    "    def deposit(self, money) :\n",
    "        self.__balance = self.__balance + money\n",
    "        # return a\n",
    "    #출금\n",
    "    def withdraw(self, money) :\n",
    "        if(self.__balance < money) :\n",
    "            print('잔액이 부족합니다.')\n",
    "        else :\n",
    "            self.__balance = self.__balance - money \n",
    "    #송금            \n",
    "    def transfer(self, money, other) :\n",
    "        \n",
    "        if(self.__balance < money) :\n",
    "            print('잔액이 부족합니다.')\n",
    "        else : \n",
    "            self.__balance = self.__balance - money\n",
    "            other.__balance= other.__balance + money\n",
    "            other_balance = other.get_balance()\n",
    "            other.set_balance(other_balance + money)\n",
    "        \n",
    "    def __eq__(self, other_rect) :                     #같은지 확인\n",
    "        return self.m_area() == other_rect.m_area()        \n",
    "        \n",
    "        # self.withdraw\n",
    "        # other.deposit\n",
    "        \n",
    "#     def fiCheak(self, other_rect) :\n",
    "#         if self.get_num = other_rect.get_num\n",
    "    \n",
    "    #정보 출력\n",
    "    def print_info(self) :\n",
    "        print('계좌번호 %d번 잔액 %d원 입니다.'%(self.__num, self.__balance))\n",
    "     \n",
    "    #계좌 갯수 출력\n",
    "    @classmethod\n",
    "    def print_account_cnt(cls):\n",
    "        print(cls.account_cnt)"
   ]
  },
  {
   "cell_type": "code",
   "execution_count": 326,
   "id": "e3a2e69e-0381-4a0b-8354-c9f6b0827933",
   "metadata": {},
   "outputs": [
    {
     "name": "stdin",
     "output_type": "stream",
     "text": [
      "원하시는 버튼을 입력하세요. 1.계좌만들기 2. 입금 3. 출금 4. 송금  3\n",
      "본인의 계좌번호를 입력하세요. 234\n",
      "출금하실 금액을 기입해주세요. 4500\n"
     ]
    },
    {
     "name": "stdout",
     "output_type": "stream",
     "text": [
      "고객님의 잔액은 95500입니다.\n"
     ]
    }
   ],
   "source": [
    "import random\n",
    "user1 = Account(110453, 150000)  #객체생성\n",
    "user2 = Account(2530913,300000)\n",
    "user3 = Account(234, 100000)\n",
    "en = [user1, user2, user3]\n",
    "\n",
    "# 메뉴 선택\n",
    "a = int(input('원하시는 버튼을 입력하세요. 1.계좌만들기 2. 입금 3. 출금 4. 송금 '))\n",
    "if a >= 5 :\n",
    "    print('1 ~ 4까지의 숫자만 입력해주세요.')\n",
    " #은행 계좌 넣는 곳\n",
    "\n",
    "    \n",
    "elif a == 1 :\n",
    "    num = random.randint(1,100000) # 1부터 100000까지\n",
    "    print('%d라는 계좌번호가 개설되었습니다.' %num)\n",
    "    en.append(num) # 랜덤으로 받은 num을 객체로 생성하는 방법을 모르겠음.\n",
    "    \n",
    "elif a == 2 :\n",
    "    i = int(input('본인의 계좌번호를 입력하세요.'))  #입금\n",
    "    if i == 110453 :  #리스트 안에 계좌번호가 같은지 확인하는 방법을 모르겠음           \n",
    "        u = int(input('입금하실 금액을 기입해주세요.'))\n",
    "        user1.deposit(u)   # 같은 계좌에 금액을 더하는 코드를 모르겠음.\n",
    "        print('고객님의 잔액은 %d입니다.' %(user1.get_balance()))\n",
    "        \n",
    "    elif i == 2530913 :\n",
    "        u = int(input('입금하실 금액을 기입해주세요.'))\n",
    "        user2.deposit(u)   # 같은 계좌에 금액을 더하는 코드를 모르겠음.\n",
    "        print('고객님의 잔액은 %d입니다.' %(user2.get_balance()))\n",
    "    elif i == 234 :    \n",
    "        u = int(input('입금하실 금액을 기입해주세요.'))\n",
    "        user3.deposit(u)   # 같은 계좌에 금액을 더하는 코드를 모르겠음.\n",
    "        print('고객님의 잔액은 %d입니다.' %(user3.get_balance()))\n",
    "    \n",
    "    else :\n",
    "        print('잘못된 계좌번호를 기입하셨습니다. 다시시도해주세요.')\n",
    "        \n",
    "elif a == 3 :\n",
    "    i = int(input('본인의 계좌번호를 입력하세요.'))  #출금\n",
    "    if i == 110453 :  #리스트 안에 계좌번호가 같은지 확인하는 방법을 모르겠음           \n",
    "        u = int(input('출금하실 금액을 기입해주세요.'))\n",
    "        user1.withdraw(u)   # 같은 계좌에 금액을 더하는 코드를 모르겠음.\n",
    "        print('고객님의 잔액은 %d입니다.' %(user1.get_balance()))\n",
    "        \n",
    "    elif i == 2530913 :\n",
    "        u = int(input('출금하실 금액을 기입해주세요.'))\n",
    "        user2.withdraw(u)   # 같은 계좌에 금액을 더하는 코드를 모르겠음.\n",
    "        print('고객님의 잔액은 %d입니다.' %(user2.get_balance()))\n",
    "    elif i == 234 :    \n",
    "        u = int(input('출금하실 금액을 기입해주세요.'))\n",
    "        user3.withdraw(u)   # 같은 계좌에 금액을 더하는 코드를 모르겠음.\n",
    "        print('고객님의 잔액은 %d입니다.' %(user3.get_balance()))    \n",
    "    else :\n",
    "        print('잘못된 계좌번호를 기입하셨습니다. 다시시도해주세요.')    \n",
    "        \n",
    "elif a == 4 :\n",
    "    t = int(input('본인의 계좌번호를 입력하세요.'))\n",
    "    if t == 110453 :\n",
    "        u = int(input('송금하실 계좌번호를 입력하세요.'))\n",
    "        v = int(input('송금하실 금액을 기입해주세요.'))\n",
    "        user1.transfer(v,user2)  #송금할 계좌의 transfer 적용을 모르겠음\n",
    "        print('송금한 후 잔액 %d입니다.' %user1.get_balance())\n",
    "    elif t == 234 :\n",
    "        u = int(input('송금하실 계좌번호를 입력하세요.'))\n",
    "        v = int(input('송금하실 금액을 기입해주세요.'))\n",
    "        user3.transfer(v,user2)  #송금할 계좌의 transfer 적용을 모르겠음\n",
    "        print('송금한 후 잔액 %d입니다.' %user3.get_balance())        \n",
    "    else :\n",
    "        print('잘못된 계좌번호입니다. 다시시도해주세요.')\n"
   ]
  },
  {
   "cell_type": "code",
   "execution_count": 2,
   "id": "3c173d86-3008-489f-86a4-0c6685259862",
   "metadata": {},
   "outputs": [],
   "source": [
    "user1 = Account(1)  #객체생성\n",
    "user2 = Account(2)\n",
    "\n",
    "# print(user1.get_num()) num print\n",
    "\n",
    "\n",
    "# print(user1.get_balance()) balance print\n",
    "\n",
    "user1.deposit(9) "
   ]
  },
  {
   "cell_type": "code",
   "execution_count": 258,
   "id": "6ce084e9-c08e-428c-ada1-8bf2c3e7be0d",
   "metadata": {},
   "outputs": [
    {
     "name": "stdout",
     "output_type": "stream",
     "text": [
      "150012\n",
      "계좌번호 110453번 잔액 150012원 입니다.\n",
      "14\n",
      "14\n"
     ]
    }
   ],
   "source": [
    "print(user1.get_balance()) \n",
    "\n",
    "# user1.deposit(3)     한번 더 하면 추가됨\n",
    "# print(user1.get_balance())\n",
    "\n",
    "user1.print_info()\n",
    "\n",
    "# user1.withdraw(1) -1 and\n",
    "# print(user1.get_balance())  than print\n",
    "\n",
    "\n",
    "# print(user1.balance) __라는 것은 privte이라는 뜻\n",
    "# print(user1.num) 접근 할 경우 안되게끔 \n",
    "\n",
    "Account.print_account_cnt()\n",
    "\n",
    "\n",
    "\n",
    "Account.print_account_cnt()\n",
    "\n",
    "user1.transfer(2, user2)"
   ]
  },
  {
   "cell_type": "code",
   "execution_count": 107,
   "id": "f0096250-4ad6-475f-8651-69264bf09f2a",
   "metadata": {},
   "outputs": [],
   "source": [
    "class Rectangle () :\n",
    "    def __init__(self, garo, sero) :\n",
    "        self.__garo = garo\n",
    "        self.__sero = sero\n",
    "        \n",
    "    def get_garo(self) :\n",
    "        return self.__garo\n",
    "    \n",
    "    def set_garo(self) :\n",
    "        self.__garo = garo\n",
    "        \n",
    "    def get_sero(self) :\n",
    "        return self.__sero\n",
    "    \n",
    "    def set_garo(self) :\n",
    "        self.__saro = sero\n",
    "    \n",
    "    def __str__(self) :\n",
    "        return '가로는 %d  '% self.__garo\n",
    "    \n",
    "    def __eq__(self, other_rect) :                     #같은지 확인\n",
    "        return self.m_area() == other_rect.m_area()\n",
    "        \n",
    "    def __gt__(self, other_rect) :                    # 큰지 확인\n",
    "        return self.m_area() < other_rect.m_area()\n",
    "\n",
    "    def __le__(self, other_rect) :                  #작거나 같다 확인\n",
    "        return self.m_area <= other_rect.m_area() \n",
    "    \n",
    "    def __lt__(self, other_rect) :                    \n",
    "        return self.m_area() > other_rect.m_area()\n",
    "    \n",
    "    def __ge__(self, other_rect):                      #크거나 같은지 확인\n",
    "        return self.m_area() <= other_rect.m_area()\n",
    "    \n",
    "    def m_round(self) :\n",
    "        return (self.__garo + self.__sero) * 2\n",
    "    \n",
    "    def m_area(self) :\n",
    "        return (self.__garo * self.__sero)"
   ]
  },
  {
   "cell_type": "code",
   "execution_count": 110,
   "id": "ff1255ed-e546-480b-86cf-2114a190f16d",
   "metadata": {},
   "outputs": [
    {
     "name": "stdout",
     "output_type": "stream",
     "text": [
      "12\n",
      "20\n",
      "30\n",
      "42\n",
      "56\n",
      "False\n",
      "True\n",
      "True\n"
     ]
    }
   ],
   "source": [
    "fi1 = Rectangle(3, 4)\n",
    "fi2 = Rectangle(4, 5)\n",
    "fi3 = Rectangle(5, 6)\n",
    "fi4 = Rectangle(6, 7)\n",
    "fi5 = Rectangle(7, 8)\n",
    "\n",
    "\n",
    "# rect_list = [fi1, fi2, fi3, fi4, fi5]\n",
    "rect_list = list()\n",
    "rect_list.append(fi1)\n",
    "rect_list.append(fi2)\n",
    "rect_list.append(fi3)\n",
    "rect_list.append(fi4)\n",
    "rect_list.append(fi5)\n",
    "\n",
    "rect_list[0].m_area()\n",
    "\n",
    "for z in rect_list :\n",
    "    print(z.m_area())\n",
    "\n",
    "print(fi1 == fi2)    \n",
    "print(fi1 >= fi2)   \n",
    "print(fi1 >= fi2) \n",
    "\n",
    "# print(rect_list, type(rect_list))\n",
    "# print(fi1,fi2)\n",
    "# print(fi1.m_round())\n",
    "# print(fi1.m_area())\n",
    "# print(fi2.m_round())\n",
    "# print(fi2.m_area())\n"
   ]
  },
  {
   "cell_type": "code",
   "execution_count": 148,
   "id": "b89b8884-eca8-4938-af22-4fbd56e0d5fc",
   "metadata": {},
   "outputs": [
    {
     "name": "stdout",
     "output_type": "stream",
     "text": [
      "2022-01-03 15:51:43.242501\n",
      "2022\n",
      "1\n",
      "3\n",
      "2022/01/03\n"
     ]
    }
   ],
   "source": [
    "# import math\n",
    "\n",
    "# # dir(math)\n",
    "\n",
    "# math.atan(3)\n",
    "\n",
    "# import datetime    1번째 방법\n",
    "# x = datetime.datetime.now()\n",
    "# print(x)\n",
    "\n",
    "from datetime import datetime   #2번째 방법\n",
    "\n",
    "x = datetime.now()\n",
    "\n",
    "print(x)\n",
    "\n",
    "print(x.year)\n",
    "print(x.month)\n",
    "print(x.day)\n",
    "s = x.strftime('%Y/%m/%d')\n",
    "print(s)\n",
    "\n",
    "# y = datetime.strptime(\"2022-01-03\" , '%y-%m-%d')\n",
    "# print(type(y))"
   ]
  },
  {
   "cell_type": "code",
   "execution_count": 151,
   "id": "463e68a8-6c41-4ce3-87ac-7837cd5b01aa",
   "metadata": {},
   "outputs": [
    {
     "name": "stdout",
     "output_type": "stream",
     "text": [
      "Windows\n"
     ]
    }
   ],
   "source": [
    "import platform\n",
    "\n",
    "x = platform.system()\n",
    "print(x)"
   ]
  },
  {
   "cell_type": "code",
   "execution_count": 212,
   "id": "58eea971-09c8-42e7-82e2-e89d636a801e",
   "metadata": {},
   "outputs": [
    {
     "name": "stdout",
     "output_type": "stream",
     "text": [
      "98\n",
      "0.777822968364066\n",
      "3\n",
      "a\n"
     ]
    }
   ],
   "source": [
    "import random\n",
    "\n",
    "num = random.randint(1,100) # 1부터 100까지\n",
    "print(num)\n",
    "\n",
    "num = random.random()\n",
    "print(num)\n",
    "\n",
    "num = random.randrange(1, 7, 2)\n",
    "print(num)\n",
    "\n",
    "xyz = ['a','b','c','d']\n",
    "random.shuffle(xyz)\n",
    "x = random.choice(xyz)\n",
    "print(x)"
   ]
  },
  {
   "cell_type": "code",
   "execution_count": 180,
   "id": "1ff76313-bfb7-4f09-a82c-b20a67b3c495",
   "metadata": {},
   "outputs": [
    {
     "name": "stdout",
     "output_type": "stream",
     "text": [
      "Requirement already satisfied: camelcase in c:\\users\\bit\\anaconda3\\lib\\site-packages (0.2)\n"
     ]
    }
   ],
   "source": [
    "!pip install camelcase"
   ]
  },
  {
   "cell_type": "code",
   "execution_count": 183,
   "id": "f2eb442f-3019-4c04-b173-830e0fa4c4ec",
   "metadata": {},
   "outputs": [
    {
     "name": "stdout",
     "output_type": "stream",
     "text": [
      "Hello Wofld\n"
     ]
    }
   ],
   "source": [
    "import camelcase\n",
    "# c = camelacse.Camelcase()\n",
    "#c = cc.CamelCase()\n",
    "c = camelcase.CamelCase()\n",
    "txt = \"hello wofld\"\n",
    "print(c.hump(txt))"
   ]
  },
  {
   "cell_type": "code",
   "execution_count": 199,
   "id": "3e0aff9a-acb9-421f-95a1-cb9f6e2e56b6",
   "metadata": {},
   "outputs": [
    {
     "name": "stdout",
     "output_type": "stream",
     "text": [
      "<class 'dict'> {'name': 'John', 'age': 30, 'city': 'New York'}\n",
      "30\n",
      "{\"name\": \"John\", \"age\": 30, \"city\": \"New York\"} <class 'str'>\n"
     ]
    }
   ],
   "source": [
    "# ! pip list\n",
    "\n",
    "import json\n",
    "\n",
    "json_string = '''{ \"name\" : \"John\",\n",
    "                    \"age\":30,\n",
    "                    \"city\" : \"New York\"}'''\n",
    "\n",
    "         \n",
    "python_dict = json.loads(json_string)\n",
    "\n",
    "print(type(python_dict), python_dict)\n",
    "print(python_dict[\"age\"])\n",
    "\n",
    "\n",
    "json_string = json.dumps(python_dict)  #json 문자열로 변환\n",
    "\n",
    "print(json_string, type(json_string))    \n",
    "\n"
   ]
  }
 ],
 "metadata": {
  "kernelspec": {
   "display_name": "Python 3 (ipykernel)",
   "language": "python",
   "name": "python3"
  },
  "language_info": {
   "codemirror_mode": {
    "name": "ipython",
    "version": 3
   },
   "file_extension": ".py",
   "mimetype": "text/x-python",
   "name": "python",
   "nbconvert_exporter": "python",
   "pygments_lexer": "ipython3",
   "version": "3.9.7"
  }
 },
 "nbformat": 4,
 "nbformat_minor": 5
}
