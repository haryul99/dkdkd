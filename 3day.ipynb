{
 "cells": [
  {
   "cell_type": "code",
   "execution_count": 3,
   "id": "9c8119b9-df2b-48aa-b79d-d8dc04a5a9e4",
   "metadata": {},
   "outputs": [
    {
     "name": "stdout",
     "output_type": "stream",
     "text": [
      "1\n",
      "2\n"
     ]
    }
   ],
   "source": [
    "i = 1\n",
    "\n",
    "while i < 6 :\n",
    "    if i == 3 :\n",
    "        break\n",
    "    print(i)\n",
    "    \n",
    "    i = i + 1"
   ]
  },
  {
   "cell_type": "code",
   "execution_count": 4,
   "id": "0d29903b-0be8-4fa5-b62f-ca614061aa85",
   "metadata": {},
   "outputs": [
    {
     "name": "stdout",
     "output_type": "stream",
     "text": [
      "1\n",
      "2\n",
      "4\n",
      "5\n",
      "6\n"
     ]
    }
   ],
   "source": [
    "i = 0\n",
    "while i < 6 :\n",
    "    i = i + 1\n",
    "    \n",
    "    if i == 3 :\n",
    "        continue\n",
    "    print(i)"
   ]
  },
  {
   "cell_type": "code",
   "execution_count": 7,
   "id": "e9da8d4a-b429-4734-9f86-86e4ba819522",
   "metadata": {},
   "outputs": [
    {
     "name": "stdout",
     "output_type": "stream",
     "text": [
      "끝\n",
      "옹?\n"
     ]
    }
   ],
   "source": [
    "i = 0\n",
    "\n",
    "while i > 6 :\n",
    "    print(i)\n",
    "    i += 1\n",
    "else :\n",
    "    print('끝')\n",
    "\n",
    "print ('옹?')"
   ]
  },
  {
   "cell_type": "code",
   "execution_count": 9,
   "id": "1813f552-29f4-46bf-94e0-c546998b9e56",
   "metadata": {},
   "outputs": [
    {
     "name": "stdout",
     "output_type": "stream",
     "text": [
      "0\n",
      "1\n",
      "2\n",
      "3\n",
      "4\n",
      "5\n"
     ]
    }
   ],
   "source": [
    "for x in range(6):\n",
    "    print(x)"
   ]
  },
  {
   "cell_type": "code",
   "execution_count": 11,
   "id": "c026bfab-ffdc-4559-b909-9ec7a0940598",
   "metadata": {},
   "outputs": [
    {
     "name": "stdout",
     "output_type": "stream",
     "text": [
      "2\n",
      "10\n",
      "18\n",
      "26\n"
     ]
    }
   ],
   "source": [
    "for x in range(2, 30, 8):\n",
    "    print(x)"
   ]
  },
  {
   "cell_type": "code",
   "execution_count": 16,
   "id": "517d32da-61c0-48cd-a3e9-f61e76a1b6c4",
   "metadata": {},
   "outputs": [
    {
     "name": "stdout",
     "output_type": "stream",
     "text": [
      "죄송합니다. 24점으로 불합격하셨습니다.\n",
      "축하합니다. 78점으로 합격하셨습니다.\n",
      "죄송합니다. 40점으로 불합격하셨습니다.\n",
      "축하합니다. 80점으로 합격하셨습니다.\n",
      "축하합니다. 90점으로 합격하셨습니다.\n"
     ]
    }
   ],
   "source": [
    "point = [24, 78, 40, 80, 90]\n",
    "\n",
    "for x in point :\n",
    "    if x >= 60 :\n",
    "        print('축하합니다. %d점으로 합격하셨습니다.'%x)\n",
    "    elif x = 50 :\n",
    "        print(x, \n",
    "    else :\n",
    "        print('죄송합니다. %d점으로 불합격하셨습니다.' %x)\n"
   ]
  },
  {
   "cell_type": "code",
   "execution_count": 29,
   "id": "78f5abc2-9db8-4e6a-84f3-917cac11e124",
   "metadata": {},
   "outputs": [
    {
     "name": "stdout",
     "output_type": "stream",
     "text": [
      "1\n",
      "2\n",
      "끝\n"
     ]
    }
   ],
   "source": [
    "i = 0\n",
    " \n",
    "while i < 6 :\n",
    "    i += 1\n",
    "    if i == 3 :\n",
    "        break\n",
    "    print(i)\n",
    "       \n",
    "print('끝')    "
   ]
  },
  {
   "cell_type": "code",
   "execution_count": 59,
   "id": "31bee2b7-7d24-4c4a-a9a0-13d61d3b9d41",
   "metadata": {},
   "outputs": [
    {
     "name": "stdout",
     "output_type": "stream",
     "text": [
      "[] <class 'list'>\n",
      "[] <class 'list'>\n",
      "['camomile'] <class 'list'>\n",
      "[] <class 'list'>\n",
      "['camomile'] <class 'list'>\n",
      "['cadelock'] <class 'list'>\n"
     ]
    }
   ],
   "source": [
    "my_tea = list()\n",
    "my_car = list()\n",
    "\n",
    "print(my_tea, type(my_tea))\n",
    "print(my_car, type(my_car))\n",
    "\n",
    "my_tea.append('camomile') #append 뒤로 추가\n",
    "print(my_tea, type(my_tea))\n",
    "print(my_car, type(my_car))\n",
    "\n",
    "my_car.append('cadelock')\n",
    "print(my_tea, type(my_tea))\n",
    "print(my_car, type(my_car))"
   ]
  },
  {
   "cell_type": "code",
   "execution_count": 69,
   "id": "1a0a1b82-715b-465b-ab5b-0696c3e9b6be",
   "metadata": {},
   "outputs": [
    {
     "name": "stdout",
     "output_type": "stream",
     "text": [
      "['camomile', 'camomile', 'camomile', 'camomile', 'camomile', 'hr', 'hr', 'heno', 'aeno', 'beno']\n"
     ]
    }
   ],
   "source": [
    "my_tea.append('beno') #append에는 값을 하나만 넣을 수 있음 + 중복값 가능\n",
    "print(my_tea)"
   ]
  },
  {
   "cell_type": "code",
   "execution_count": 36,
   "id": "90d4f6c0-a330-4f35-9a51-d1cbfa6e124f",
   "metadata": {},
   "outputs": [
    {
     "name": "stdout",
     "output_type": "stream",
     "text": [
      "['camomile', 'camomile', 'royibos', 'royibos', 'royibos', 'royibos', 'camomile', 'camomile']\n"
     ]
    }
   ],
   "source": [
    "my_tea.insert(2, 'royibos') #insert의 경우 위치를 설정하여 추가가 가능함\n",
    "print(my_tea)"
   ]
  },
  {
   "cell_type": "code",
   "execution_count": 47,
   "id": "491f900a-7428-47bb-bf00-ca78190f7293",
   "metadata": {},
   "outputs": [
    {
     "name": "stdout",
     "output_type": "stream",
     "text": [
      "3\n",
      "1\n",
      "camomile\n",
      "['camomile', 'camomile']\n"
     ]
    }
   ],
   "source": [
    "print(len(my_tea)) #list 의 길이 check\n",
    "print(len(my_car))\n",
    "\n",
    "#두번째것만 나오게\n",
    "print(my_tea[1])\n",
    "\n",
    "my_tea.remove(my_tea[0])\n",
    "print(my_tea)"
   ]
  },
  {
   "cell_type": "code",
   "execution_count": 46,
   "id": "46fff065-b686-418a-b2c5-a8a76cc5259d",
   "metadata": {},
   "outputs": [
    {
     "name": "stdout",
     "output_type": "stream",
     "text": [
      "['royibos', 'camomile', 'camomile']\n"
     ]
    }
   ],
   "source": [
    "my_tea.remove('royibos') #shift + tab 시 설명이 떠짐\n",
    "print(my_tea)"
   ]
  },
  {
   "cell_type": "code",
   "execution_count": 75,
   "id": "4237a84e-1caf-49e3-8033-21e196237728",
   "metadata": {},
   "outputs": [
    {
     "name": "stdout",
     "output_type": "stream",
     "text": [
      "['hr', 'hr', 'heno', 'camomile', 'camomile', 'camomile', 'camomile', 'camomile']\n",
      "['camomile', 'camomile', 'camomile', 'camomile', 'camomile', 'heno', 'hr', 'hr']\n",
      "['hr', 'hr', 'heno', 'camomile', 'camomile', 'camomile', 'camomile', 'camomile']\n",
      "camomile\n",
      "['hr', 'hr', 'heno', 'camomile', 'camomile', 'camomile', 'camomile']\n"
     ]
    }
   ],
   "source": [
    "print(my_tea)\n",
    "\n",
    "my_tea.sort() #sort의 경우 정렬의 뜻_오름차순 정렬\n",
    "print(my_tea)\n",
    "\n",
    "my_tea.sort(reverse=True) #sort의 경우 정렬의 뜻_내림차순 정렬\n",
    "print(my_tea)\n",
    "\n",
    "a = my_tea.pop(-1) #pop뒤에 아무것도 쓰지 않으면 마지막값이 리턴값이 되어 a에 대입된다. 꺼내온 값이 삭제 된다. -1이라는 건 맨 끝에꺼를 말하는 것이며, -2로 하면 뒤에서 두번째\n",
    "print(a)\n",
    "print(my_tea)"
   ]
  },
  {
   "cell_type": "code",
   "execution_count": 84,
   "id": "66b6cd4d-b54f-4254-8c08-a20fc1581ce3",
   "metadata": {},
   "outputs": [
    {
     "name": "stdout",
     "output_type": "stream",
     "text": [
      "() <class 'tuple'>\n",
      "() <class 'tuple'>\n",
      "('hr', 'hr', 'heno', 'camomile', 'camomile', 'camomile', 'camomile', 'camomile') <class 'tuple'>\n",
      "hr\n",
      "('heno',)\n"
     ]
    }
   ],
   "source": [
    "my_hand = tuple()\n",
    "my_foot = ()  #둘 다 tuple이라는 뜻\n",
    "\n",
    "print(my_foot, type(my_foot))\n",
    "print(my_hand, type(my_hand))\n",
    "\n",
    "my_hand = ('hr', 'hr', 'heno', 'camomile', 'camomile', 'camomile', 'camomile', 'camomile')\n",
    "print(my_hand, type(my_hand))\n",
    "\n",
    "print(my_hand[0])\n",
    "print(my_hand[2:3])\n",
    "\n",
    "# my_hand[0] = 'hi"
   ]
  },
  {
   "cell_type": "code",
   "execution_count": 100,
   "id": "98ed467a-f983-488a-a6b2-62b052e6a405",
   "metadata": {},
   "outputs": [
    {
     "name": "stdout",
     "output_type": "stream",
     "text": [
      "<class 'tuple'>\n",
      "<class 'list'>\n",
      "['hr', 'hr', 'heno', 'camomile', 'camomile', 'camomile', 'camomile', 'camomile', 'hi']\n",
      "<class 'tuple'>\n",
      "<class 'tuple'>\n",
      "2\n",
      "5\n"
     ]
    }
   ],
   "source": [
    "my_hand1 = list(my_hand) #튜플을 change\n",
    "\n",
    "print(type(my_hand))\n",
    "print(type(my_hand1))\n",
    "\n",
    "my_hand1.append('hi')\n",
    "print(my_hand1)\n",
    "\n",
    "my_hand1 = tuple(my_hand)\n",
    "\n",
    "print(type(my_hand1))\n",
    "print(type(my_hand))\n",
    "\n",
    "a = my_hand.count('hr') #같은 캐릭터의 갯수를 세어서 return해줌\n",
    "print(a)\n",
    "\n",
    "print(my_hand.count('camomile')) #변수에 넣어서 count하지 않고 바로 print안에 기입 O"
   ]
  },
  {
   "cell_type": "code",
   "execution_count": 114,
   "id": "d3006701-9cd9-406c-afc4-75225150acc5",
   "metadata": {},
   "outputs": [
    {
     "name": "stdout",
     "output_type": "stream",
     "text": [
      "<class 'set'>\n",
      "<class 'set'>\n",
      "{'a', 'd'}\n",
      "True\n",
      "False\n",
      "{'d'}\n",
      "set()\n"
     ]
    }
   ],
   "source": [
    "#set 만드는 방법\n",
    "my_face = {'qwer','asdf'}\n",
    "#set 만드는 방법\n",
    "my_leg = set()\n",
    "\n",
    "my_leg.add('d')\n",
    "my_leg.add('a') #set의 경우 중복되지 않는 것을 확인\n",
    "\n",
    "print(type(my_face))\n",
    "print(type(my_leg))\n",
    "print(my_leg)\n",
    "\n",
    "# print(my_leg[0]) #index 안됨\n",
    "\n",
    "print('a'in my_leg)\n",
    "print('b'in my_leg) # in 연산자는 set에서 있으면 True, 없으면 False가 노출\n",
    "\n",
    "my_leg.remove('a')\n",
    "print(my_leg)\n",
    "\n",
    "my_leg.discard('d')\n",
    "print(my_leg)"
   ]
  },
  {
   "cell_type": "code",
   "execution_count": null,
   "id": "af4df3cf-d239-47b6-b860-4d2e59758624",
   "metadata": {},
   "outputs": [
    {
     "name": "stdin",
     "output_type": "stream",
     "text": [
      "1번째 학생의 점수를 입력하세요 30\n",
      "2번째 학생의 점수를 입력하세요 30\n",
      "3번째 학생의 점수를 입력하세요 30\n",
      "4번째 학생의 점수를 입력하세요 30\n",
      "5번째 학생의 점수를 입력하세요 30\n"
     ]
    },
    {
     "name": "stdout",
     "output_type": "stream",
     "text": [
      "[30, 30, 30, 30, 30]\n",
      "150\n"
     ]
    }
   ],
   "source": [
    "my_id = []\n",
    "\n",
    "for n in range(5) :\n",
    "    x = int(input('%d번째 학생의 점수를 입력하세요' % (n+1)))\n",
    "    my_id.append(x)      \n",
    "print(my_id)\n",
    "\n",
    "\n",
    "#점수의 총합 코드 작성\n",
    "j = 0\n",
    "for s in my_id :\n",
    "    j = j + s\n",
    "print(j)    "
   ]
  },
  {
   "cell_type": "code",
   "execution_count": 173,
   "id": "69be0f09-2089-4acc-98f2-7c13ea41a400",
   "metadata": {},
   "outputs": [
    {
     "name": "stdin",
     "output_type": "stream",
     "text": [
      "학생 수를 입력하시오 2\n",
      "1번째 학생의 점수를 입력하세요 100\n",
      "2번째 학생의 점수를 입력하세요 12\n"
     ]
    },
    {
     "name": "stdout",
     "output_type": "stream",
     "text": [
      "[100, 12]\n",
      "112\n"
     ]
    }
   ],
   "source": [
    "#위의 코드에서 학생의 수를 입력하세요로 노출되게끔\n",
    "stu_point = []\n",
    "n = 0\n",
    "n = int(input('학생 수를 입력하시오')) \n",
    "\n",
    "\n",
    "for z in range(0,n) :\n",
    "    o = int(input('%d번째 학생의 점수를 입력하세요' %(z + 1)))\n",
    "    stu_point.append(o)\n",
    "            \n",
    "print(stu_point) \n",
    "\n",
    "v = 0\n",
    "for u in stu_point :\n",
    "    v = v + u\n",
    "print(v)    "
   ]
  },
  {
   "cell_type": "code",
   "execution_count": 199,
   "id": "67d3aa9e-e20c-4988-9f1f-476b3bac2c15",
   "metadata": {},
   "outputs": [
    {
     "name": "stdin",
     "output_type": "stream",
     "text": [
      "학생의 수를 입력해주세요 2\n",
      "1번째 학생의 점수를 입력하세요 50\n",
      "2번째 학생의 점수를 입력하세요 60\n"
     ]
    },
    {
     "name": "stdout",
     "output_type": "stream",
     "text": [
      "[50, 60]\n",
      "110\n"
     ]
    }
   ],
   "source": [
    "score = []\n",
    "i = 0\n",
    "s = int(input('학생의 수를 입력해주세요'))\n",
    "\n",
    "if s >= 100 :\n",
    "    print('죄송합니다. 더 적은 학생의 수를 기입해주세요.')\n",
    "elif s <= 1 :\n",
    "    print('죄송합니다. 더 많은 학생의 수를 기입해주세요.')\n",
    "else :\n",
    "    while i < s : \n",
    "        add = int(input('%d번째 학생의 점수를 입력하세요'%(i+1)))\n",
    "        score.append(add)\n",
    "        i += 1\n",
    "\n",
    "print(score)\n",
    "\n",
    "u = 0\n",
    "\n",
    "for d in score :\n",
    "    u = u + d\n",
    "print(u)"
   ]
  },
  {
   "cell_type": "code",
   "execution_count": 206,
   "id": "58b987af-2bfe-4490-a954-764567f2d144",
   "metadata": {},
   "outputs": [
    {
     "name": "stdout",
     "output_type": "stream",
     "text": [
      "{'name': 'haryul', 'age': 25, 'mom': 25, 'tall': 173} <class 'dict'>\n",
      "{} <class 'dict'>\n",
      "4\n"
     ]
    }
   ],
   "source": [
    "my_dict = {'name' : 'haryul', 'age' : 25 ,'mom' : 25 , 'tall' : 173} #key의 경우 중복이 되지 않음 또한 무조건 문자열로 기입해야함\n",
    "my_dict1 = dict()\n",
    "\n",
    "print(my_dict, type(my_dict))\n",
    "print(my_dict1, type(my_dict1))\n",
    "print(len(my_dict))"
   ]
  },
  {
   "cell_type": "code",
   "execution_count": 211,
   "id": "56d7004a-6f2c-4324-84a3-90cd9ac41ae9",
   "metadata": {},
   "outputs": [
    {
     "name": "stdout",
     "output_type": "stream",
     "text": [
      "dict_keys(['name', 'age', 'mom', 'tall']) <class 'dict_keys'>\n",
      "dict_values(['haryul', 25, 25, 173]) <class 'dict_values'>\n",
      "dict_items([('name', 'haryul'), ('age', 25), ('mom', 25), ('tall', 173)]) <class 'dict_items'>\n",
      "haryul <class 'str'>\n",
      "25 <class 'int'>\n",
      "25 <class 'int'>\n",
      "173 <class 'int'>\n"
     ]
    }
   ],
   "source": [
    "keys = my_dict.keys()  #키만\n",
    "values = my_dict.values()#값만\n",
    "items = my_dict.items() #키랑 값만\n",
    "\n",
    "print(keys, type(keys))\n",
    "print(values, type(values))\n",
    "print(items, type(items))\n",
    "\n",
    "name = my_dict.get('name') # 1 .get을 사용하여 변수에 대입\n",
    "age = my_dict.get('age')\n",
    "m = my_dict.get('mom')\n",
    "t = my_dict['tall'] # 1. ['']을 사용하여 변수에 대입\n",
    "\n",
    "print(name, type(name))\n",
    "print(age, type(age))\n",
    "print(m, type(m))\n",
    "print(t, type(t))"
   ]
  },
  {
   "cell_type": "code",
   "execution_count": 216,
   "id": "793467ac-977f-4a57-808d-fea8587b41c4",
   "metadata": {},
   "outputs": [
    {
     "name": "stdout",
     "output_type": "stream",
     "text": [
      "{'name': 'haryul', 'age': 22, 'mom': 25, 'tall': 173, 'add': 'seoul', 'ryul': 'so'}\n",
      "{'name': 'haryul', 'age': 22, 'mom': 25, 'tall': 173, 'add': 'seoul', 'ryul': 'so'}\n"
     ]
    }
   ],
   "source": [
    "print(my_dict)            \n",
    "my_dict['age'] = 22       #딕셔너리 값 변경\n",
    "my_dict['add'] = 'seoul'  #딕셔너리 값 추가\n",
    "my_dict['ryul'] = 'so'\n",
    "print(my_dict)"
   ]
  },
  {
   "cell_type": "code",
   "execution_count": 227,
   "id": "aed64a48-829d-43af-99e8-da9a8cb1fe01",
   "metadata": {},
   "outputs": [
    {
     "name": "stdout",
     "output_type": "stream",
     "text": [
      "[{'ah': 1, 'oh': 2, 'ha': 3}, {'aaa': 'dkdk', 'bbb': 'dkdk', 'ccc': 'dfdf'}] <class 'list'>\n",
      "<class 'dict'>\n",
      "1\n",
      "<class 'dict'>\n",
      "None\n"
     ]
    }
   ],
   "source": [
    "person = [\n",
    "    {'ah' : 1,\n",
    "     'oh' : 2,\n",
    "     'ha' : 3,},\n",
    "    {'aaa' : 'dkdk',\n",
    "     'bbb' : 'dkdk',\n",
    "     'ccc' : 'dfdf'}]\n",
    "\n",
    "print(person, type(person))\n",
    "\n",
    "# ah = person.keys\n",
    "\n",
    "# print(ah, type(ah))\n",
    "\n",
    "a = 0\n",
    "for p in person :\n",
    "    print(type(p))\n",
    "    print(p.get('ah'))\n",
    "    # a = person.keys()\n",
    "    # print(a)"
   ]
  },
  {
   "cell_type": "code",
   "execution_count": 240,
   "id": "233785eb-7cac-4cca-b35b-526c6c9a40a3",
   "metadata": {},
   "outputs": [
    {
     "name": "stdin",
     "output_type": "stream",
     "text": [
      "당신의 이름은 무엇입니까? 박하률\n",
      "당신의 국어점수는 무엇입니까? 65\n",
      "당신의 영어점수는 무엇입니까? 100\n",
      "당신의 수학점수는 무엇입니까? 100\n"
     ]
    },
    {
     "name": "stdout",
     "output_type": "stream",
     "text": [
      "박하률님의 총점은 265점이며 평균은 88점 입니다.\n"
     ]
    }
   ],
   "source": [
    "hey = {'name' : '0', 'kor' : 0 ,'eng' : 0 , 'mat' : 0}\n",
    "\n",
    "f = input('당신의 이름은 무엇입니까?')\n",
    "e = int(input('당신의 국어점수는 무엇입니까?'))\n",
    "d = int(input('당신의 영어점수는 무엇입니까?'))\n",
    "c = int(input('당신의 수학점수는 무엇입니까?'))\n",
    "\n",
    "hey['name'] = f\n",
    "hey['kor'] = e\n",
    "hey['eng'] = d\n",
    "hey['mat'] = c\n",
    "\n",
    "sUm = 0\n",
    "\n",
    "sUm = hey.get('kor') + hey.get('eng') + hey.get('mat')\n",
    "evg = sUm/3\n",
    "print('%s님의 총점은 %d점이며 평균은 %d점 입니다.'% (f, sUm, evg))"
   ]
  }
 ],
 "metadata": {
  "kernelspec": {
   "display_name": "Python 3 (ipykernel)",
   "language": "python",
   "name": "python3"
  },
  "language_info": {
   "codemirror_mode": {
    "name": "ipython",
    "version": 3
   },
   "file_extension": ".py",
   "mimetype": "text/x-python",
   "name": "python",
   "nbconvert_exporter": "python",
   "pygments_lexer": "ipython3",
   "version": "3.9.7"
  }
 },
 "nbformat": 4,
 "nbformat_minor": 5
}
