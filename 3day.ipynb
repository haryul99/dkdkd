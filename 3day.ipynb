{
 "cells": [
  {
   "cell_type": "code",
   "execution_count": 3,
   "id": "9c8119b9-df2b-48aa-b79d-d8dc04a5a9e4",
   "metadata": {},
   "outputs": [
    {
     "name": "stdout",
     "output_type": "stream",
     "text": [
      "1\n",
      "2\n"
     ]
    }
   ],
   "source": [
    "i = 1\n",
    "\n",
    "while i < 6 :\n",
    "    if i == 3 :\n",
    "        break    #break의 경우 if문이 조건에 성립할 경우 그 이후의 while은 실행되지 않음\n",
    "    print(i)\n",
    "    \n",
    "    i = i + 1"
   ]
  },
  {
   "cell_type": "code",
   "execution_count": 301,
   "id": "0d29903b-0be8-4fa5-b62f-ca614061aa85",
   "metadata": {},
   "outputs": [
    {
     "name": "stdout",
     "output_type": "stream",
     "text": [
      "1\n",
      "2\n",
      "4\n",
      "5\n",
      "6\n"
     ]
    }
   ],
   "source": [
    "i = 0\n",
    "while i < 6 :\n",
    "    i = i + 1\n",
    "    \n",
    "    if i == 3 :\n",
    "        continue  #continue의 경우 if문이 성립할 경우 아래의 식은 보지 않고 while문으로 들어가서 실행됨\n",
    "    print(i)"
   ]
  },
  {
   "cell_type": "code",
   "execution_count": 7,
   "id": "e9da8d4a-b429-4734-9f86-86e4ba819522",
   "metadata": {},
   "outputs": [
    {
     "name": "stdout",
     "output_type": "stream",
     "text": [
      "끝\n",
      "옹?\n"
     ]
    }
   ],
   "source": [
    "i = 0\n",
    "\n",
    "while i > 6 :\n",
    "    print(i)\n",
    "    i += 1\n",
    "else :\n",
    "    print('끝')\n",
    "\n",
    "print ('옹?')"
   ]
  },
  {
   "cell_type": "code",
   "execution_count": 9,
   "id": "1813f552-29f4-46bf-94e0-c546998b9e56",
   "metadata": {},
   "outputs": [
    {
     "name": "stdout",
     "output_type": "stream",
     "text": [
      "0\n",
      "1\n",
      "2\n",
      "3\n",
      "4\n",
      "5\n"
     ]
    }
   ],
   "source": [
    "for x in range(6):\n",
    "    print(x)"
   ]
  },
  {
   "cell_type": "code",
   "execution_count": 11,
   "id": "c026bfab-ffdc-4559-b909-9ec7a0940598",
   "metadata": {},
   "outputs": [
    {
     "name": "stdout",
     "output_type": "stream",
     "text": [
      "2\n",
      "10\n",
      "18\n",
      "26\n"
     ]
    }
   ],
   "source": [
    "for x in range(2, 30, 8):\n",
    "    print(x)"
   ]
  },
  {
   "cell_type": "code",
   "execution_count": 306,
   "id": "517d32da-61c0-48cd-a3e9-f61e76a1b6c4",
   "metadata": {},
   "outputs": [
    {
     "name": "stdout",
     "output_type": "stream",
     "text": [
      "죄송합니다. 24점으로 불합격하셨습니다.\n",
      "축하합니다. 78점으로 합격하셨습니다.\n",
      "죄송합니다. 40점으로 불합격하셨습니다.\n",
      "축하합니다. 80점으로 합격하셨습니다.\n",
      "축하합니다. 90점으로 합격하셨습니다.\n"
     ]
    }
   ],
   "source": [
    "point = [24, 78, 40, 80, 90]\n",
    "\n",
    "for x in point :\n",
    "    if x >= 60 :\n",
    "        print('축하합니다. %d점으로 합격하셨습니다.'%x)\n",
    "    elif x >= 50 :\n",
    "        print('%d점으로 패자부활권을 드리겠습니다.'%x)\n",
    "    else :\n",
    "        print('죄송합니다. %d점으로 불합격하셨습니다.' %x)\n"
   ]
  },
  {
   "cell_type": "code",
   "execution_count": 29,
   "id": "78f5abc2-9db8-4e6a-84f3-917cac11e124",
   "metadata": {},
   "outputs": [
    {
     "name": "stdout",
     "output_type": "stream",
     "text": [
      "1\n",
      "2\n",
      "끝\n"
     ]
    }
   ],
   "source": [
    "i = 0\n",
    " \n",
    "while i < 6 :\n",
    "    i += 1\n",
    "    if i == 3 :\n",
    "        break\n",
    "    print(i)\n",
    "       \n",
    "print('끝')    "
   ]
  },
  {
   "cell_type": "code",
   "execution_count": 59,
   "id": "31bee2b7-7d24-4c4a-a9a0-13d61d3b9d41",
   "metadata": {},
   "outputs": [
    {
     "name": "stdout",
     "output_type": "stream",
     "text": [
      "[] <class 'list'>\n",
      "[] <class 'list'>\n",
      "['camomile'] <class 'list'>\n",
      "[] <class 'list'>\n",
      "['camomile'] <class 'list'>\n",
      "['cadelock'] <class 'list'>\n"
     ]
    }
   ],
   "source": [
    "my_tea = list()\n",
    "my_car = list()\n",
    "\n",
    "print(my_tea, type(my_tea))\n",
    "print(my_car, type(my_car))\n",
    "\n",
    "my_tea.append('camomile') #append 뒤로 추가\n",
    "print(my_tea, type(my_tea))\n",
    "print(my_car, type(my_car))\n",
    "\n",
    "my_car.append('cadelock')\n",
    "print(my_tea, type(my_tea))\n",
    "print(my_car, type(my_car))"
   ]
  },
  {
   "cell_type": "code",
   "execution_count": 69,
   "id": "1a0a1b82-715b-465b-ab5b-0696c3e9b6be",
   "metadata": {},
   "outputs": [
    {
     "name": "stdout",
     "output_type": "stream",
     "text": [
      "['camomile', 'camomile', 'camomile', 'camomile', 'camomile', 'hr', 'hr', 'heno', 'aeno', 'beno']\n"
     ]
    }
   ],
   "source": [
    "my_tea.append('beno') #append에는 값을 하나만 넣을 수 있음 + 중복값 가능\n",
    "print(my_tea)"
   ]
  },
  {
   "cell_type": "code",
   "execution_count": 36,
   "id": "90d4f6c0-a330-4f35-9a51-d1cbfa6e124f",
   "metadata": {},
   "outputs": [
    {
     "name": "stdout",
     "output_type": "stream",
     "text": [
      "['camomile', 'camomile', 'royibos', 'royibos', 'royibos', 'royibos', 'camomile', 'camomile']\n"
     ]
    }
   ],
   "source": [
    "my_tea.insert(2, 'royibos') #insert의 경우 위치를 설정하여 추가가 가능함\n",
    "print(my_tea)"
   ]
  },
  {
   "cell_type": "code",
   "execution_count": 47,
   "id": "491f900a-7428-47bb-bf00-ca78190f7293",
   "metadata": {},
   "outputs": [
    {
     "name": "stdout",
     "output_type": "stream",
     "text": [
      "3\n",
      "1\n",
      "camomile\n",
      "['camomile', 'camomile']\n"
     ]
    }
   ],
   "source": [
    "print(len(my_tea)) #list 의 길이 check\n",
    "print(len(my_car))\n",
    "\n",
    "#두번째것만 나오게\n",
    "print(my_tea[1])\n",
    "\n",
    "my_tea.remove(my_tea[0])\n",
    "print(my_tea)"
   ]
  },
  {
   "cell_type": "code",
   "execution_count": 46,
   "id": "46fff065-b686-418a-b2c5-a8a76cc5259d",
   "metadata": {},
   "outputs": [
    {
     "name": "stdout",
     "output_type": "stream",
     "text": [
      "['royibos', 'camomile', 'camomile']\n"
     ]
    }
   ],
   "source": [
    "my_tea.remove('royibos') #shift + tab 시 설명이 떠짐\n",
    "print(my_tea)"
   ]
  },
  {
   "cell_type": "code",
   "execution_count": 75,
   "id": "4237a84e-1caf-49e3-8033-21e196237728",
   "metadata": {},
   "outputs": [
    {
     "name": "stdout",
     "output_type": "stream",
     "text": [
      "['hr', 'hr', 'heno', 'camomile', 'camomile', 'camomile', 'camomile', 'camomile']\n",
      "['camomile', 'camomile', 'camomile', 'camomile', 'camomile', 'heno', 'hr', 'hr']\n",
      "['hr', 'hr', 'heno', 'camomile', 'camomile', 'camomile', 'camomile', 'camomile']\n",
      "camomile\n",
      "['hr', 'hr', 'heno', 'camomile', 'camomile', 'camomile', 'camomile']\n"
     ]
    }
   ],
   "source": [
    "print(my_tea)\n",
    "\n",
    "my_tea.sort() #sort의 경우 정렬의 뜻_오름차순 정렬\n",
    "print(my_tea)\n",
    "\n",
    "my_tea.sort(reverse=True) #sort의 경우 정렬의 뜻_내림차순 정렬\n",
    "print(my_tea)\n",
    "\n",
    "a = my_tea.pop(-1) #pop뒤에 아무것도 쓰지 않으면 마지막값이 리턴값이 되어 a에 대입된다. 꺼내온 값이 삭제 된다. -1이라는 건 맨 끝에꺼를 말하는 것이며, -2로 하면 뒤에서 두번째\n",
    "print(a)\n",
    "print(my_tea)"
   ]
  },
  {
   "cell_type": "code",
   "execution_count": 84,
   "id": "66b6cd4d-b54f-4254-8c08-a20fc1581ce3",
   "metadata": {},
   "outputs": [
    {
     "name": "stdout",
     "output_type": "stream",
     "text": [
      "() <class 'tuple'>\n",
      "() <class 'tuple'>\n",
      "('hr', 'hr', 'heno', 'camomile', 'camomile', 'camomile', 'camomile', 'camomile') <class 'tuple'>\n",
      "hr\n",
      "('heno',)\n"
     ]
    }
   ],
   "source": [
    "my_hand = tuple()\n",
    "my_foot = ()  #둘 다 tuple이라는 뜻\n",
    "\n",
    "print(my_foot, type(my_foot))\n",
    "print(my_hand, type(my_hand))\n",
    "\n",
    "my_hand = ('hr', 'hr', 'heno', 'camomile', 'camomile', 'camomile', 'camomile', 'camomile')\n",
    "print(my_hand, type(my_hand))\n",
    "\n",
    "print(my_hand[0])\n",
    "print(my_hand[2:3])\n",
    "\n",
    "# my_hand[0] = 'hi"
   ]
  },
  {
   "cell_type": "code",
   "execution_count": 100,
   "id": "98ed467a-f983-488a-a6b2-62b052e6a405",
   "metadata": {},
   "outputs": [
    {
     "name": "stdout",
     "output_type": "stream",
     "text": [
      "<class 'tuple'>\n",
      "<class 'list'>\n",
      "['hr', 'hr', 'heno', 'camomile', 'camomile', 'camomile', 'camomile', 'camomile', 'hi']\n",
      "<class 'tuple'>\n",
      "<class 'tuple'>\n",
      "2\n",
      "5\n"
     ]
    }
   ],
   "source": [
    "my_hand1 = list(my_hand) #튜플을 change\n",
    "\n",
    "print(type(my_hand))\n",
    "print(type(my_hand1))\n",
    "\n",
    "my_hand1.append('hi')\n",
    "print(my_hand1)\n",
    "\n",
    "my_hand1 = tuple(my_hand)\n",
    "\n",
    "print(type(my_hand1))\n",
    "print(type(my_hand))\n",
    "\n",
    "a = my_hand.count('hr') #같은 캐릭터의 갯수를 세어서 return해줌\n",
    "print(a)\n",
    "\n",
    "print(my_hand.count('camomile')) #변수에 넣어서 count하지 않고 바로 print안에 기입 O"
   ]
  },
  {
   "cell_type": "code",
   "execution_count": 114,
   "id": "d3006701-9cd9-406c-afc4-75225150acc5",
   "metadata": {},
   "outputs": [
    {
     "name": "stdout",
     "output_type": "stream",
     "text": [
      "<class 'set'>\n",
      "<class 'set'>\n",
      "{'a', 'd'}\n",
      "True\n",
      "False\n",
      "{'d'}\n",
      "set()\n"
     ]
    }
   ],
   "source": [
    "#set 만드는 방법\n",
    "my_face = {'qwer','asdf'}\n",
    "#set 만드는 방법\n",
    "my_leg = set()\n",
    "\n",
    "my_leg.add('d')\n",
    "my_leg.add('a') #set의 경우 중복되지 않는 것을 확인\n",
    "\n",
    "print(type(my_face))\n",
    "print(type(my_leg))\n",
    "print(my_leg)\n",
    "\n",
    "# print(my_leg[0]) #index 안됨\n",
    "\n",
    "print('a'in my_leg)\n",
    "print('b'in my_leg) # in 연산자는 set에서 있으면 True, 없으면 False가 노출\n",
    "\n",
    "my_leg.remove('a')\n",
    "print(my_leg)\n",
    "\n",
    "my_leg.discard('d')\n",
    "print(my_leg)"
   ]
  },
  {
   "cell_type": "code",
   "execution_count": 323,
   "id": "af4df3cf-d239-47b6-b860-4d2e59758624",
   "metadata": {},
   "outputs": [
    {
     "name": "stdin",
     "output_type": "stream",
     "text": [
      "1번째 학생의 점수를 입력하세요 50\n",
      "2번째 학생의 점수를 입력하세요 60\n",
      "3번째 학생의 점수를 입력하세요 80\n",
      "4번째 학생의 점수를 입력하세요 90\n",
      "5번째 학생의 점수를 입력하세요 40\n"
     ]
    },
    {
     "name": "stdout",
     "output_type": "stream",
     "text": [
      "[50, 60, 80, 90, 40]\n",
      "320\n"
     ]
    }
   ],
   "source": [
    "my_id = []\n",
    "\n",
    "for n in range(5) :\n",
    "    x = int(input('%d번째 학생의 점수를 입력하세요' % (n+1)))\n",
    "    my_id.append(x)      \n",
    "print(my_id)\n",
    "\n",
    "\n",
    "#점수의 총합 코드 작성\n",
    "j = 0\n",
    "for s in my_id :\n",
    "    j = j + s\n",
    "print(j)    \n",
    "\n"
   ]
  },
  {
   "cell_type": "code",
   "execution_count": 173,
   "id": "69be0f09-2089-4acc-98f2-7c13ea41a400",
   "metadata": {},
   "outputs": [
    {
     "name": "stdin",
     "output_type": "stream",
     "text": [
      "학생 수를 입력하시오 2\n",
      "1번째 학생의 점수를 입력하세요 100\n",
      "2번째 학생의 점수를 입력하세요 12\n"
     ]
    },
    {
     "name": "stdout",
     "output_type": "stream",
     "text": [
      "[100, 12]\n",
      "112\n"
     ]
    }
   ],
   "source": [
    "#위의 코드에서 학생의 수를 입력하세요로 노출되게끔\n",
    "stu_point = []\n",
    "n = 0\n",
    "n = int(input('학생 수를 입력하시오')) \n",
    "\n",
    "\n",
    "for z in range(0,n) :\n",
    "    o = int(input('%d번째 학생의 점수를 입력하세요' %(z + 1)))\n",
    "    stu_point.append(o)\n",
    "            \n",
    "print(stu_point) \n",
    "\n",
    "v = 0\n",
    "for u in stu_point :\n",
    "    v = v + u\n",
    "print(v)    \n",
    "\n",
    "# score = []\n",
    "# i = 0\n",
    "# sum1 = 0\n",
    "# j = 0\n",
    "# while i < 5 : \n",
    "#     add = int(input('리스트에 점수를 추가하세요'))\n",
    "#     score.append(add)\n",
    "#     i = i + 1\n",
    "# while j < 5 :\n",
    "#     sum1 = sum1 + score[j]\n",
    "#     j = j + 1\n",
    "\n",
    "\n",
    "# print(score)\n",
    "# print(sum1)"
   ]
  },
  {
   "cell_type": "code",
   "execution_count": 199,
   "id": "67d3aa9e-e20c-4988-9f1f-476b3bac2c15",
   "metadata": {},
   "outputs": [
    {
     "name": "stdin",
     "output_type": "stream",
     "text": [
      "학생의 수를 입력해주세요 2\n",
      "1번째 학생의 점수를 입력하세요 50\n",
      "2번째 학생의 점수를 입력하세요 60\n"
     ]
    },
    {
     "name": "stdout",
     "output_type": "stream",
     "text": [
      "[50, 60]\n",
      "110\n"
     ]
    }
   ],
   "source": [
    "score = []\n",
    "i = 0\n",
    "s = int(input('학생의 수를 입력해주세요'))\n",
    "\n",
    "if s >= 100 :\n",
    "    print('죄송합니다. 더 적은 학생의 수를 기입해주세요.')\n",
    "elif s <= 1 :\n",
    "    print('죄송합니다. 더 많은 학생의 수를 기입해주세요.')\n",
    "else :\n",
    "    while i < s : \n",
    "        add = int(input('%d번째 학생의 점수를 입력하세요'%(i+1)))\n",
    "        score.append(add)\n",
    "        i += 1\n",
    "\n",
    "print(score)\n",
    "\n",
    "u = 0\n",
    "\n",
    "for d in score :\n",
    "    u = u + d\n",
    "print(u)"
   ]
  },
  {
   "cell_type": "code",
   "execution_count": 206,
   "id": "58b987af-2bfe-4490-a954-764567f2d144",
   "metadata": {},
   "outputs": [
    {
     "name": "stdout",
     "output_type": "stream",
     "text": [
      "{'name': 'haryul', 'age': 25, 'mom': 25, 'tall': 173} <class 'dict'>\n",
      "{} <class 'dict'>\n",
      "4\n"
     ]
    }
   ],
   "source": [
    "my_dict = {'name' : 'haryul', 'age' : 25 ,'mom' : 25 , 'tall' : 173} #key의 경우 중복이 되지 않음 또한 무조건 문자열로 기입해야함\n",
    "my_dict1 = dict()\n",
    "\n",
    "print(my_dict, type(my_dict))\n",
    "print(my_dict1, type(my_dict1))\n",
    "print(len(my_dict))"
   ]
  },
  {
   "cell_type": "code",
   "execution_count": 211,
   "id": "56d7004a-6f2c-4324-84a3-90cd9ac41ae9",
   "metadata": {},
   "outputs": [
    {
     "name": "stdout",
     "output_type": "stream",
     "text": [
      "dict_keys(['name', 'age', 'mom', 'tall']) <class 'dict_keys'>\n",
      "dict_values(['haryul', 25, 25, 173]) <class 'dict_values'>\n",
      "dict_items([('name', 'haryul'), ('age', 25), ('mom', 25), ('tall', 173)]) <class 'dict_items'>\n",
      "haryul <class 'str'>\n",
      "25 <class 'int'>\n",
      "25 <class 'int'>\n",
      "173 <class 'int'>\n"
     ]
    }
   ],
   "source": [
    "keys = my_dict.keys()  #키만\n",
    "values = my_dict.values()#값만\n",
    "items = my_dict.items() #키랑 값만\n",
    "\n",
    "print(keys, type(keys))\n",
    "print(values, type(values))\n",
    "print(items, type(items))\n",
    "\n",
    "name = my_dict.get('name') # 1 .get을 사용하여 변수에 대입\n",
    "age = my_dict.get('age')\n",
    "m = my_dict.get('mom')\n",
    "t = my_dict['tall'] # 1. ['']을 사용하여 변수에 대입\n",
    "\n",
    "print(name, type(name))\n",
    "print(age, type(age))\n",
    "print(m, type(m))\n",
    "print(t, type(t))"
   ]
  },
  {
   "cell_type": "code",
   "execution_count": 216,
   "id": "793467ac-977f-4a57-808d-fea8587b41c4",
   "metadata": {},
   "outputs": [
    {
     "name": "stdout",
     "output_type": "stream",
     "text": [
      "{'name': 'haryul', 'age': 22, 'mom': 25, 'tall': 173, 'add': 'seoul', 'ryul': 'so'}\n",
      "{'name': 'haryul', 'age': 22, 'mom': 25, 'tall': 173, 'add': 'seoul', 'ryul': 'so'}\n"
     ]
    }
   ],
   "source": [
    "print(my_dict)            \n",
    "my_dict['age'] = 22       #딕셔너리 값 변경\n",
    "my_dict['add'] = 'seoul'  #딕셔너리 값 추가\n",
    "my_dict['ryul'] = 'so'\n",
    "print(my_dict)"
   ]
  },
  {
   "cell_type": "code",
   "execution_count": 227,
   "id": "aed64a48-829d-43af-99e8-da9a8cb1fe01",
   "metadata": {},
   "outputs": [
    {
     "name": "stdout",
     "output_type": "stream",
     "text": [
      "[{'ah': 1, 'oh': 2, 'ha': 3}, {'aaa': 'dkdk', 'bbb': 'dkdk', 'ccc': 'dfdf'}] <class 'list'>\n",
      "<class 'dict'>\n",
      "1\n",
      "<class 'dict'>\n",
      "None\n"
     ]
    }
   ],
   "source": [
    "person = [\n",
    "    {'ah' : 1,\n",
    "     'oh' : 2,\n",
    "     'ha' : 3,},\n",
    "    {'aaa' : 'dkdk',\n",
    "     'bbb' : 'dkdk',\n",
    "     'ccc' : 'dfdf'}]\n",
    "\n",
    "print(person, type(person))\n",
    "\n",
    "# ah = person.keys\n",
    "\n",
    "# print(ah, type(ah))\n",
    "\n",
    "a = 0\n",
    "for p in person :\n",
    "    print(type(p))\n",
    "    print(p.get('ah'))\n",
    "    # a = person.keys()\n",
    "    # print(a)"
   ]
  },
  {
   "cell_type": "code",
   "execution_count": 242,
   "id": "233785eb-7cac-4cca-b35b-526c6c9a40a3",
   "metadata": {},
   "outputs": [
    {
     "name": "stdin",
     "output_type": "stream",
     "text": [
      "당신의 이름은 무엇입니까? 박하률\n",
      "당신의 국어점수는 무엇입니까? 100\n",
      "당신의 영어점수는 무엇입니까? 100\n",
      "당신의 수학점수는 무엇입니까? 100\n"
     ]
    },
    {
     "name": "stdout",
     "output_type": "stream",
     "text": [
      "박하률님의 총점은 300점이며 평균은 100점 입니다.\n",
      "{'name': '박하률', 'kor': 100, 'eng': 100, 'mat': 100}\n"
     ]
    }
   ],
   "source": [
    "hey = {'name' : '0', 'kor' : 0 ,'eng' : 0 , 'mat' : 0}\n",
    "\n",
    "f = input('당신의 이름은 무엇입니까?')\n",
    "e = int(input('당신의 국어점수는 무엇입니까?'))\n",
    "d = int(input('당신의 영어점수는 무엇입니까?'))\n",
    "c = int(input('당신의 수학점수는 무엇입니까?'))\n",
    "\n",
    "hey['name'] = f\n",
    "hey['kor'] = e\n",
    "hey['eng'] = d\n",
    "hey['mat'] = c\n",
    "\n",
    "sUm = 0\n",
    "\n",
    "sUm = hey.get('kor') + hey.get('eng') + hey.get('mat')\n",
    "evg = sUm/3\n",
    "print('%s님의 총점은 %d점이며 평균은 %d점 입니다.'% (f, sUm, evg))\n",
    "\n",
    "print(hey)"
   ]
  },
  {
   "cell_type": "code",
   "execution_count": 262,
   "id": "fe0f4cc0-61fe-49bf-a364-eb744364b9f5",
   "metadata": {},
   "outputs": [],
   "source": [
    "def my_function(n, msg): #같은 변수를 사용해도 괜찮음, 단 함수의 있는 것은 별도의 영역이기에 로컬변수라고 함\n",
    "    print('-'*n)\n",
    "    print(msg)\n",
    "    print('-'*n)"
   ]
  },
  {
   "cell_type": "code",
   "execution_count": 263,
   "id": "05afc474-4227-4582-8fd5-fc34c5098d55",
   "metadata": {},
   "outputs": [
    {
     "name": "stdin",
     "output_type": "stream",
     "text": [
      " 10\n",
      " hi\n"
     ]
    },
    {
     "name": "stdout",
     "output_type": "stream",
     "text": [
      "----------\n",
      "hi\n",
      "----------\n"
     ]
    }
   ],
   "source": [
    "x = int(input(''))\n",
    "y = input('')\n",
    "my_function(x, y)\n",
    "#my_function(10)"
   ]
  },
  {
   "cell_type": "code",
   "execution_count": 298,
   "id": "1ca155df-15b5-471e-8bb1-9c645227976d",
   "metadata": {},
   "outputs": [],
   "source": [
    "def my_ad(n, m):\n",
    "    print('합을 출력하겠습니다.')\n",
    "    t = n + m\n",
    "    print('%d + %d = %d' %(n, m, t)) \n",
    "    \n",
    "def my_mi(n, m):\n",
    "    print('차를 출력하겠습니다.')    \n",
    "    if n < m :\n",
    "        t = m - n\n",
    "        print('%d - %d = %d' %(m, n, t))\n",
    "    else :        \n",
    "        t = n - m\n",
    "        print('%d - %d = %d' %(n, m, t))\n",
    "        \n",
    "def my_mu(n, m) :\n",
    "    print('곱을 출력하겠습니다.')    \n",
    "    t = n * m\n",
    "    print('%d x %d = %d' %(n, m, t)) \n",
    "    \n",
    "def my_di(n, m) :\n",
    "    print('나눗셈을 출력하겠습니다.')    \n",
    "    t = n % m\n",
    "    print('%d / %d = %d' %(n, m, t))"
   ]
  },
  {
   "cell_type": "code",
   "execution_count": 307,
   "id": "3e5cd28a-fbf9-41dd-9fd5-ba82918a625d",
   "metadata": {},
   "outputs": [
    {
     "name": "stdin",
     "output_type": "stream",
     "text": [
      "값을 넣어주세요 60\n",
      "값을 넣어주세요 500\n"
     ]
    },
    {
     "name": "stdout",
     "output_type": "stream",
     "text": [
      "합을 출력하겠습니다.\n",
      "60 + 500 = 560\n",
      "차를 출력하겠습니다.\n",
      "500 - 60 = 440\n",
      "곱을 출력하겠습니다.\n",
      "60 x 500 = 30000\n",
      "나눗셈을 출력하겠습니다.\n",
      "60 / 500 = 60\n"
     ]
    }
   ],
   "source": [
    "a = int(input('값을 넣어주세요'))\n",
    "b = int(input('값을 넣어주세요'))\n",
    "my_ad(a, b)\n",
    "my_mi(a, b)\n",
    "my_mu(a, b)\n",
    "my_di(a, b)\n"
   ]
  },
  {
   "cell_type": "code",
   "execution_count": 351,
   "id": "a8157a17-459b-42fe-a5e9-aad4f0d33b97",
   "metadata": {},
   "outputs": [],
   "source": [
    "# 받은 수를 1에서 받은 수까지 더하는 함수\n",
    "def my_um(y) :\n",
    "    u = 0\n",
    "    i = y\n",
    "    while 0 < y :\n",
    "        u = y + u\n",
    "        y -=1\n",
    "    print ('1부터 %d까지 받은 수의 합은 %d' %(i, u))"
   ]
  },
  {
   "cell_type": "code",
   "execution_count": 350,
   "id": "47f8a54d-611e-4b6d-bf87-e0400e82e5fd",
   "metadata": {},
   "outputs": [
    {
     "name": "stdin",
     "output_type": "stream",
     "text": [
      "입력한 수까지 모든 값을 더합니다. 5\n"
     ]
    },
    {
     "name": "stdout",
     "output_type": "stream",
     "text": [
      "1부터 5까지 받은 수의 합은 15\n"
     ]
    }
   ],
   "source": [
    "a = int(input('입력한 수까지 모든 값을 더합니다.'))\n",
    "my_um(a) "
   ]
  },
  {
   "cell_type": "code",
   "execution_count": 352,
   "id": "4ded6f09-306a-470b-bb36-19560d42e160",
   "metadata": {},
   "outputs": [],
   "source": [
    "def my_li(n) :\n",
    "    print(n, type(n))"
   ]
  },
  {
   "cell_type": "code",
   "execution_count": 353,
   "id": "68604491-8a5f-4743-86a6-b674d1f273fa",
   "metadata": {},
   "outputs": [
    {
     "name": "stdin",
     "output_type": "stream",
     "text": [
      "리스트에 담을 수를 기재하세요 5\n"
     ]
    },
    {
     "name": "stdout",
     "output_type": "stream",
     "text": [
      "[5, 5, 5, 5, 5, 5, 5, 5, 5, 5, 5] <class 'list'>\n"
     ]
    }
   ],
   "source": [
    "cheak = []\n",
    "i = 10 \n",
    "a = int(input('리스트에 담을 수를 기재하세요'))\n",
    "while i >= 0 :\n",
    "    cheak.append(a)\n",
    "    i -= 1\n",
    "my_li(cheak)"
   ]
  },
  {
   "cell_type": "code",
   "execution_count": 359,
   "id": "743ea97b-f341-4ced-83f5-b0ed350afb65",
   "metadata": {},
   "outputs": [],
   "source": [
    "def my_numcheak(x, y, z) :\n",
    "    if x > y :\n",
    "        if x > z :\n",
    "            print('%d,%d,%d 중 가장 큰 수는 %d입니다.'%(x, y, z, x))\n",
    "        else :\n",
    "             print('%d,%d,%d 중 가장 큰 수는 %d입니다.'%(x, y, z, z))\n",
    "    elif  y > x :\n",
    "        if y > z :\n",
    "            print('%d,%d,%d 중 가장 큰 수는 %d입니다.'%(x, y, z, y))\n",
    "        else :    \n",
    "            print('%d,%d,%d 중 가장 큰 수는 %d입니다.'%(x, y, z, z))\n",
    "    else :\n",
    "        print('중복된 숫자가 있으면 안됩니다.')"
   ]
  },
  {
   "cell_type": "code",
   "execution_count": 363,
   "id": "014f0ec4-d957-44ce-945e-ac5954f5b94f",
   "metadata": {},
   "outputs": [
    {
     "name": "stdin",
     "output_type": "stream",
     "text": [
      "수를 적어보세요 9\n",
      "수를 적어보세요 2\n",
      "수를 적어보세요 1\n"
     ]
    },
    {
     "name": "stdout",
     "output_type": "stream",
     "text": [
      "9,2,1 중 가장 큰 수는 9입니다.\n"
     ]
    }
   ],
   "source": [
    "a = int(input('수를 적어보세요'))\n",
    "b = int(input('수를 적어보세요'))\n",
    "c = int(input('수를 적어보세요'))\n",
    "\n",
    "my_numcheak(a, b, c)"
   ]
  },
  {
   "cell_type": "code",
   "execution_count": 14,
   "id": "bbfb25de-686b-4523-add4-04a8a6d8e24a",
   "metadata": {},
   "outputs": [],
   "source": [
    "def my_di(n) :\n",
    "    if n == 1 :\n",
    "        bo = int(input('직삼각형의 밑변을 기입하세요'))\n",
    "        he = int(input('직삼각형의 높이를 기입하세요'))\n",
    "        a = bo * he /2\n",
    "        print('직삼각형의 넓이는 %d입니다.'%a)\n",
    "    elif n == 2 :\n",
    "        r = int(input('원의 반지름을 기입하세요'))\n",
    "        b = r*r*3.14\n",
    "        print('원의 넓이는 %d입니다.'%b)\n",
    "    elif n == 3 :\n",
    "        r1 = int(input('정사각형 한 변의 길이를 기입하세요'))\n",
    "        c = r1*r1\n",
    "        print('정사각형의 넓이는 %d입니다.' %c)\n",
    "    elif n == 4 :\n",
    "        bo = int(input('직사각형의 밑변을 기입하세요'))\n",
    "        he = int(input('직사각형의 높이를 기입하세요'))\n",
    "        d = bo * he /2\n",
    "        print('직삼각형의 넓이는 %d입니다.'%d)        \n",
    "    else :\n",
    "        print('1~4까지의 숫자만 취급합니다.')"
   ]
  },
  {
   "cell_type": "code",
   "execution_count": 15,
   "id": "c074bfe4-1f67-4eef-b4fd-a4edc773d768",
   "metadata": {},
   "outputs": [
    {
     "name": "stdin",
     "output_type": "stream",
     "text": [
      "1.직삼각형, 2. 원, 3. 정사각형, 4. 직사각형\n",
      " 중 넓이를 구하고 싶은 번호를 기입하세요. 2\n",
      "원의 반지름을 기입하세요 5\n"
     ]
    },
    {
     "name": "stdout",
     "output_type": "stream",
     "text": [
      "원의 넓이는 78입니다.\n"
     ]
    }
   ],
   "source": [
    "a = int(input('1.직삼각형, 2. 원, 3. 정사각형, 4. 직사각형\\n 중 넓이를 구하고 싶은 번호를 기입하세요.'))\n",
    "my_di(a) "
   ]
  },
  {
   "cell_type": "code",
   "execution_count": 19,
   "id": "17a75937-ec68-4777-916f-2783a129d378",
   "metadata": {},
   "outputs": [],
   "source": [
    "#3번 하다 말..ㅁ..\n",
    "def pickup_even(m) :\n",
    "    en = []    \n",
    "    for i in m :\n",
    "        if i % 2 == 0 : \n",
    "            en.append(i)\n",
    "            "
   ]
  }
 ],
 "metadata": {
  "kernelspec": {
   "display_name": "Python 3 (ipykernel)",
   "language": "python",
   "name": "python3"
  },
  "language_info": {
   "codemirror_mode": {
    "name": "ipython",
    "version": 3
   },
   "file_extension": ".py",
   "mimetype": "text/x-python",
   "name": "python",
   "nbconvert_exporter": "python",
   "pygments_lexer": "ipython3",
   "version": "3.9.7"
  }
 },
 "nbformat": 4,
 "nbformat_minor": 5
}
