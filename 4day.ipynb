{
 "cells": [
  {
   "cell_type": "code",
   "execution_count": 7,
   "id": "c27832d3-4123-49ec-8589-1d2654b34fcd",
   "metadata": {},
   "outputs": [],
   "source": [
    "def my_add(a ,b) :\n",
    "    x = a + b  #return 만나면 호출한 쪽으로 돌아오게 됨\n",
    "    return x"
   ]
  },
  {
   "cell_type": "code",
   "execution_count": 9,
   "id": "80c98bea-8b86-4e92-b2c2-30768edda911",
   "metadata": {},
   "outputs": [
    {
     "name": "stdout",
     "output_type": "stream",
     "text": [
      "22\n"
     ]
    }
   ],
   "source": [
    "y = my_add(10, 12) #return 값을 왼쪽에 대입\n",
    "print(y)"
   ]
  },
  {
   "cell_type": "code",
   "execution_count": 35,
   "id": "89744eed-0c0f-48d7-9049-ba8782dbd1b4",
   "metadata": {},
   "outputs": [],
   "source": [
    "def my_evenadd(a) :\n",
    "    if a % 2 == 0 :\n",
    "        return '짝수입니다.'\n",
    "    else :\n",
    "        return '홀수입니다.'"
   ]
  },
  {
   "cell_type": "code",
   "execution_count": 231,
   "id": "e0387852-53e2-44d8-8456-a42643c29412",
   "metadata": {},
   "outputs": [
    {
     "name": "stdout",
     "output_type": "stream",
     "text": [
      "짝수입니다.\n"
     ]
    }
   ],
   "source": [
    "y = my_evenadd(8)\n",
    "print(y)"
   ]
  },
  {
   "cell_type": "code",
   "execution_count": 42,
   "id": "dcae755b-3c95-406a-b88b-27e0c81f6e4e",
   "metadata": {},
   "outputs": [],
   "source": [
    "def my_addsub(a, b) :\n",
    "    x = a + b \n",
    "    y = a - b \n",
    "    \n",
    "    return x, y"
   ]
  },
  {
   "cell_type": "code",
   "execution_count": 44,
   "id": "b01f7068-6ab2-44e0-9a2e-e6a208b3a459",
   "metadata": {},
   "outputs": [
    {
     "name": "stdout",
     "output_type": "stream",
     "text": [
      "<class 'tuple'> 15 5\n"
     ]
    }
   ],
   "source": [
    "y = my_addsub(10, 5)\n",
    "print(type(y),y[0],y[1])"
   ]
  },
  {
   "cell_type": "code",
   "execution_count": 45,
   "id": "867b4423-d977-42ba-82e8-67a4d5fbc001",
   "metadata": {},
   "outputs": [],
   "source": [
    "def my_o(a) :\n",
    "    r = a*a*3.14\n",
    "    return r"
   ]
  },
  {
   "cell_type": "code",
   "execution_count": 46,
   "id": "0c4b998e-2d27-4127-ae57-68112809bbae",
   "metadata": {},
   "outputs": [
    {
     "name": "stdin",
     "output_type": "stream",
     "text": [
      "원의 반지름 값을 적어주세요. 10\n"
     ]
    },
    {
     "name": "stdout",
     "output_type": "stream",
     "text": [
      "314.0\n"
     ]
    }
   ],
   "source": [
    "r = int(input('원의 반지름 값을 적어주세요.'))\n",
    "y = my_o(r)\n",
    "print(y)"
   ]
  },
  {
   "cell_type": "code",
   "execution_count": 232,
   "id": "8e04c066-4ca4-4e79-9338-b8ba4f43efe3",
   "metadata": {},
   "outputs": [],
   "source": [
    "def my_failmy(*name) :\n",
    "    for a in name :\n",
    "        print(a)"
   ]
  },
  {
   "cell_type": "code",
   "execution_count": 63,
   "id": "facdc1bd-7b04-4ff9-8cbb-2031a800b83d",
   "metadata": {},
   "outputs": [
    {
     "name": "stdout",
     "output_type": "stream",
     "text": [
      "1\n",
      "a\n",
      "b\n",
      "c\n",
      "b\n",
      "a\n"
     ]
    }
   ],
   "source": [
    "my_failmy(1) \n",
    "    # a = int(input('숫자 기입'))\n",
    "my_failmy('a','b')\n",
    "    # a = int(input('숫자 기입'))\n",
    "    # b = input('글자 기입')\n",
    "my_failmy('c','b','a')\n",
    "    # a = int(input('숫자 기입'))\n",
    "    # b = input('글자 기입')\n",
    "    # c = int(input('숫자 기입'))"
   ]
  },
  {
   "cell_type": "code",
   "execution_count": 69,
   "id": "3b17e727-cef9-44cd-8ca9-0440cdb19a04",
   "metadata": {},
   "outputs": [],
   "source": [
    "def my_failmy(**name):\n",
    "    # print(type(name))\n",
    "    print(name)\n",
    "    print(name['e'])"
   ]
  },
  {
   "cell_type": "code",
   "execution_count": 70,
   "id": "cb2eb4ad-5395-417a-a2d5-98090bf7f1ba",
   "metadata": {},
   "outputs": [
    {
     "name": "stdout",
     "output_type": "stream",
     "text": [
      "{'e': 'nayoun', 'lname': 'lee'}\n",
      "nayoun\n"
     ]
    }
   ],
   "source": [
    "my_failmy(e='nayoun', lname='lee')"
   ]
  },
  {
   "cell_type": "code",
   "execution_count": 166,
   "id": "dcfff401-e153-4b7f-a037-bce51fce5fdc",
   "metadata": {},
   "outputs": [],
   "source": [
    "def my_UUm(o) :\n",
    "    en = []\n",
    "    while 0 < o :\n",
    "        p = int(input('더할 숫자를 기입하세요'))\n",
    "        en.append(p)\n",
    "        o -= 1\n",
    "    \n",
    "    return(en)\n",
    "\n",
    "def my_sm(q) : # *은 튜플이라는 뜻 \n",
    "    u = 0\n",
    "    for i in q :\n",
    "        u = u + i\n",
    "        \n",
    "    return u\n"
   ]
  },
  {
   "cell_type": "code",
   "execution_count": 197,
   "id": "135b6697-6db2-440c-96e2-aaac1e4d4c95",
   "metadata": {},
   "outputs": [
    {
     "name": "stdin",
     "output_type": "stream",
     "text": [
      "숫자를 기입하세요 2\n",
      "더할 숫자를 기입하세요 1\n",
      "더할 숫자를 기입하세요 2\n"
     ]
    },
    {
     "name": "stdout",
     "output_type": "stream",
     "text": [
      "3\n"
     ]
    }
   ],
   "source": [
    "x = int(input('숫자를 기입하세요'))\n",
    "\n",
    "a = my_UUm(x)\n",
    "\n",
    "y = my_sm(a) \n",
    "print(y)"
   ]
  },
  {
   "cell_type": "code",
   "execution_count": 109,
   "id": "224934f6-4477-4d28-8be8-ba6e48347b8e",
   "metadata": {},
   "outputs": [],
   "source": [
    "# def my_con(country='Kor') : #기본값 삽입, 그러나 기본값있는게 뒤에 넣어야함\n",
    "#     print(country)"
   ]
  },
  {
   "cell_type": "code",
   "execution_count": 126,
   "id": "44716af2-3653-4604-ac37-908e08a98d05",
   "metadata": {},
   "outputs": [],
   "source": [
    "def my_con(stack, ry, country='Kor') : #기본값 삽입, 그러나 기본값있는게 뒤에 넣어야함\n",
    "    print(stack, country)    "
   ]
  },
  {
   "cell_type": "code",
   "execution_count": 129,
   "id": "d600c804-1847-4e55-90c8-b4caf992157c",
   "metadata": {},
   "outputs": [
    {
     "name": "stdout",
     "output_type": "stream",
     "text": [
      "USA er\n",
      "Wa Kor\n",
      "<function my_con at 0x0000015D5618CDC0> <class 'function'>\n"
     ]
    }
   ],
   "source": [
    "# my_con()\n",
    "my_con('USA', 're', 'er' )\n",
    "my_con('Wa','ef')\n",
    "print(my_con, type(my_con))"
   ]
  },
  {
   "cell_type": "code",
   "execution_count": 203,
   "id": "61daad8c-c103-492c-86da-b8d13b5e6823",
   "metadata": {},
   "outputs": [],
   "source": [
    "def my_ho(v) :\n",
    "    ssm = []\n",
    "    i = 0\n",
    "    for z in range(v) :\n",
    "        i = int(input('수를 입력하세요.'))\n",
    "        ssm.append(i)\n",
    "    return(ssm)\n",
    "    \n",
    "def my_ssm(a) :\n",
    "    n = 0\n",
    "    for i in a :\n",
    "        n = n + i\n",
    "    return(n)  \n"
   ]
  },
  {
   "cell_type": "code",
   "execution_count": 205,
   "id": "d6a1bff4-1cdd-4f30-ac05-951835d6ffac",
   "metadata": {},
   "outputs": [
    {
     "name": "stdin",
     "output_type": "stream",
     "text": [
      "합을 구할 숫자의 갯수를 입력하세요. 5\n",
      "수를 입력하세요. 1\n",
      "수를 입력하세요. 2\n",
      "수를 입력하세요. 3\n",
      "수를 입력하세요. 4\n",
      "수를 입력하세요. 5\n"
     ]
    },
    {
     "name": "stdout",
     "output_type": "stream",
     "text": [
      "15\n"
     ]
    }
   ],
   "source": [
    "a = int(input('합을 구할 숫자의 갯수를 입력하세요.'))\n",
    "\n",
    "b = my_ho(a)\n",
    "\n",
    "m = my_ssm(b)\n",
    "print(m)"
   ]
  },
  {
   "cell_type": "code",
   "execution_count": 207,
   "id": "27fe9cef-9bb0-4797-b61f-a9e963dc84a1",
   "metadata": {},
   "outputs": [
    {
     "data": {
      "text/plain": [
       "9"
      ]
     },
     "execution_count": 207,
     "metadata": {},
     "output_type": "execute_result"
    }
   ],
   "source": [
    "pow(3,2) #base, exp의 거듭제곱"
   ]
  },
  {
   "cell_type": "code",
   "execution_count": 212,
   "id": "afde4a71-2e99-46eb-b870-f99c4bfd7dfe",
   "metadata": {},
   "outputs": [
    {
     "name": "stdin",
     "output_type": "stream",
     "text": [
      "숫자를 기입하세요 2\n",
      "제곱숫자를 기입하세요 5\n"
     ]
    },
    {
     "name": "stdout",
     "output_type": "stream",
     "text": [
      "거듭제곱의 수는 32입니다.\n"
     ]
    }
   ],
   "source": [
    "x = int(input('숫자를 기입하세요'))\n",
    "y = int(input('제곱숫자를 기입하세요'))\n",
    "\n",
    "z = pow(x,y)\n",
    "\n",
    "print('거듭제곱의 수는 %d입니다.'%z)"
   ]
  },
  {
   "cell_type": "code",
   "execution_count": 230,
   "id": "19e0cdd0-a576-4a84-8352-71f37417c22f",
   "metadata": {},
   "outputs": [
    {
     "name": "stdin",
     "output_type": "stream",
     "text": [
      "수를 넣어보세요 6\n",
      "수를 넣어보세요 6\n"
     ]
    },
    {
     "name": "stdout",
     "output_type": "stream",
     "text": [
      "12 <class 'list'>\n"
     ]
    }
   ],
   "source": [
    "x = []\n",
    "\n",
    "a = int(input('수를 넣어보세요')) \n",
    "b = int(input('수를 넣어보세요')) \n",
    "\n",
    "x.append(a)\n",
    "x.append(b)\n",
    "\n",
    "p = sum(x)\n",
    "print(p, type(x))\n",
    "\n"
   ]
  },
  {
   "cell_type": "code",
   "execution_count": 292,
   "id": "55e20694-4025-4dae-a2d0-ce40ca9b9ffc",
   "metadata": {},
   "outputs": [],
   "source": [
    "#틀을 만드는 것\n",
    "class Car() :\n",
    "#     id = '1234'\n",
    "#     name = 'bmw'\n",
    "#     speed = 100\n",
    "    \n",
    "    def __init__(self, id, name) : #생성자 초기화\n",
    "        self.id = id\n",
    "        self.name = name\n",
    "        \n",
    "    def my_print(self):\n",
    "        print(self.id, self.name)\n",
    "\n",
    "    def get_id(self) :                 #self는 클래스 내부에서만 사용할 수 있는 것\n",
    "        return self.id\n",
    "    \n",
    "    def get_name(self):\n",
    "        return self.name"
   ]
  },
  {
   "cell_type": "code",
   "execution_count": 297,
   "id": "df8c87b0-1119-40a6-979a-803dbd6a478a",
   "metadata": {},
   "outputs": [
    {
     "name": "stdout",
     "output_type": "stream",
     "text": [
      "5555 bmw\n",
      "4444 benz\n",
      "bmw\n",
      "<class '__main__.Car'>\n",
      "[<__main__.Car object at 0x0000015D564FBA90>, <__main__.Car object at 0x0000015D564FB520>] <class 'list'>\n",
      "5555\n"
     ]
    }
   ],
   "source": [
    "#객체 생성\n",
    "c1 = Car('5555', 'bmw') #생성자를 통한 변수 변경\n",
    "c2 = Car('4444', 'benz')\n",
    "\n",
    "# c1.id = '20'  #값 변경\n",
    "# c2.name = 'audi'\n",
    "# print(c1.id, c1.name)\n",
    "# print(c2.id, c2.name)\n",
    "\n",
    "c1.my_print()\n",
    "c2.my_print()\n",
    "\n",
    "f = c1.get_id()\n",
    "c = c2.get_id()\n",
    "a = c1.get_name()\n",
    "print(a)\n",
    "# print(f) 만든 return값 출력\n",
    "# print(c)\n",
    "print(type(c1))\n",
    "\n",
    "cars = [c1, c2]\n",
    "print(cars,type(cars))\n",
    "x = cars[0].get_id()\n",
    "print(x)\n",
    "\n",
    "for x in cars :\n",
    "    x.get_id()"
   ]
  },
  {
   "cell_type": "code",
   "execution_count": 283,
   "id": "6e0c52f9-3154-4c66-8bcb-4bc1616e169e",
   "metadata": {},
   "outputs": [
    {
     "name": "stdout",
     "output_type": "stream",
     "text": [
      "haryul 22\n",
      "haryul 22\n",
      "soryul 25\n"
     ]
    }
   ],
   "source": [
    "class Person() :\n",
    "    # name = '박하률'\n",
    "    # age = '23'\n",
    "    def __init__(self, name, age) :\n",
    "        self.name = name\n",
    "        self.age = age\n",
    "        \n",
    "    def my_print(self) :\n",
    "        print(self.name, self.age)\n",
    "#객체생성    \n",
    "p1 = Person('haryul','22')\n",
    "p2 = Person('soryul','25')\n",
    "\n",
    "print(p1.name, p1.age)\n",
    "\n",
    "p1.my_print()\n",
    "p2.my_print()"
   ]
  },
  {
   "cell_type": "code",
   "execution_count": 336,
   "id": "879f1456-cc7d-409c-92fe-7132eab6d535",
   "metadata": {},
   "outputs": [],
   "source": [
    "class Student() :\n",
    "    def __init__(self, name, kor, eng, math) :\n",
    "        self.name = name\n",
    "        self.kor = kor\n",
    "        self.eng = eng\n",
    "        self.math = math\n",
    "        \n",
    "    def get_sum(self) :\n",
    "        a = self.kor + self.eng + self.math\n",
    "        return a\n",
    "    def get_name(self) :\n",
    "        return self.name"
   ]
  },
  {
   "cell_type": "code",
   "execution_count": 364,
   "id": "8abcea88-43e9-4d2e-af46-876fcf9806bb",
   "metadata": {},
   "outputs": [
    {
     "name": "stdout",
     "output_type": "stream",
     "text": [
      "A학생의 총점은 210입니다.\n",
      "B학생의 총점은 210입니다.\n",
      "C학생의 총점은 230입니다.\n",
      "D학생의 총점은 120입니다.\n",
      "E학생의 총점은 90입니다.\n"
     ]
    },
    {
     "data": {
      "text/plain": [
       "860"
      ]
     },
     "execution_count": 364,
     "metadata": {},
     "output_type": "execute_result"
    }
   ],
   "source": [
    "hi = []\n",
    "\n",
    "student1 = Student('A',10,100,100)\n",
    "student2 = Student('B',70,50,90)\n",
    "student3 = Student('C',60,90,80)\n",
    "student4 = Student('D',50,10,60)\n",
    "student5 = Student('E',20,30,40)                   \n",
    "\n",
    "aaa = [student1, student2, student3, student4, student5]\n",
    "\n",
    "\n",
    "u1 = student1.get_sum()\n",
    "u2 = student2.get_sum()\n",
    "u3 = student3.get_sum()\n",
    "u4 = student4.get_sum()\n",
    "u5 = student5.get_sum()\n",
    "\n",
    "n1 = student1.get_name()\n",
    "n2 = student2.get_name()\n",
    "n3 = student3.get_name()\n",
    "n4 = student4.get_name()\n",
    "n5 = student5.get_name()\n",
    "\n",
    "print('%s학생의 총점은 %d입니다.' %(n1, u1))\n",
    "print('%s학생의 총점은 %d입니다.' %(n2, u2))\n",
    "print('%s학생의 총점은 %d입니다.' %(n3, u3))\n",
    "print('%s학생의 총점은 %d입니다.' %(n4, u4))\n",
    "print('%s학생의 총점은 %d입니다.' %(n5, u5))\n",
    "\n",
    "\n",
    "for n in aaa :\n",
    "    hi.append(n.get_sum())\n",
    "    \n",
    "sum(hi)"
   ]
  },
  {
   "cell_type": "code",
   "execution_count": null,
   "id": "ef495a6e-ce0d-47ef-a2b7-c0f5da0e4780",
   "metadata": {},
   "outputs": [],
   "source": []
  }
 ],
 "metadata": {
  "kernelspec": {
   "display_name": "Python 3 (ipykernel)",
   "language": "python",
   "name": "python3"
  },
  "language_info": {
   "codemirror_mode": {
    "name": "ipython",
    "version": 3
   },
   "file_extension": ".py",
   "mimetype": "text/x-python",
   "name": "python",
   "nbconvert_exporter": "python",
   "pygments_lexer": "ipython3",
   "version": "3.9.7"
  }
 },
 "nbformat": 4,
 "nbformat_minor": 5
}
