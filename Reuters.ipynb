{
 "cells": [
  {
   "cell_type": "code",
   "execution_count": 1,
   "id": "81702f63",
   "metadata": {},
   "outputs": [],
   "source": [
    "import numpy as np\n",
    "import tensorflow as tf\n",
    "import matplotlib.pyplot as plt\n",
    "from tensorflow.keras.datasets import reuters\n",
    "from tensorflow.keras import models, layers\n",
    "from tensorflow.keras.preprocessing import sequence\n",
    "from tensorflow.keras import utils"
   ]
  },
  {
   "cell_type": "code",
   "execution_count": 2,
   "id": "46452450",
   "metadata": {},
   "outputs": [],
   "source": [
    "seed = 0\n",
    "np.random.seed(seed)\n",
    "tf.random.set_seed(3)"
   ]
  },
  {
   "cell_type": "code",
   "execution_count": 5,
   "id": "32c2352f",
   "metadata": {},
   "outputs": [
    {
     "name": "stdout",
     "output_type": "stream",
     "text": [
      "category:  46\n",
      "train set : 8982\n",
      "test set :  2246\n"
     ]
    }
   ],
   "source": [
    "(X_train, y_train), (X_test, y_test) = reuters.load_data(num_words=1000, test_split=0.2)\n",
    "\n",
    "category = np.max(y_train) + 1\n",
    "print('category: ', category)\n",
    "print('train set :', len(X_train))\n",
    "print('test set : ', len(X_test))"
   ]
  },
  {
   "cell_type": "code",
   "execution_count": 6,
   "id": "d76fdaa9",
   "metadata": {},
   "outputs": [
    {
     "name": "stdout",
     "output_type": "stream",
     "text": [
      "[1, 2, 2, 8, 43, 10, 447, 5, 25, 207, 270, 5, 2, 111, 16, 369, 186, 90, 67, 7, 89, 5, 19, 102, 6, 19, 124, 15, 90, 67, 84, 22, 482, 26, 7, 48, 4, 49, 8, 864, 39, 209, 154, 6, 151, 6, 83, 11, 15, 22, 155, 11, 15, 7, 48, 9, 2, 2, 504, 6, 258, 6, 272, 11, 15, 22, 134, 44, 11, 15, 16, 8, 197, 2, 90, 67, 52, 29, 209, 30, 32, 132, 6, 109, 15, 17, 12]\n"
     ]
    }
   ],
   "source": [
    "print(X_train[0])"
   ]
  },
  {
   "cell_type": "code",
   "execution_count": 7,
   "id": "6f859d1c",
   "metadata": {},
   "outputs": [],
   "source": [
    "X_train = sequence.pad_sequences(X_train, maxlen=100)\n",
    "X_test = sequence.pad_sequences(X_test, maxlen=100)\n",
    "y_train = utils.to_categorical(y_train) #원핫인코딩으로 바꾸겠다\n",
    "y_test = utils.to_categorical(y_test)"
   ]
  },
  {
   "cell_type": "code",
   "execution_count": 8,
   "id": "3d35a777",
   "metadata": {},
   "outputs": [],
   "source": [
    "model = models.Sequential()\n",
    "model.add(layers.Embedding(1000, 100))\n",
    "model.add(layers.LSTM(100, activation='tanh'))\n",
    "model.add(layers.Dense(46, activation='softmax'))"
   ]
  },
  {
   "cell_type": "code",
   "execution_count": 9,
   "id": "a6c732e3",
   "metadata": {},
   "outputs": [
    {
     "name": "stdout",
     "output_type": "stream",
     "text": [
      "Model: \"sequential\"\n",
      "_________________________________________________________________\n",
      "Layer (type)                 Output Shape              Param #   \n",
      "=================================================================\n",
      "embedding (Embedding)        (None, None, 100)         100000    \n",
      "_________________________________________________________________\n",
      "lstm (LSTM)                  (None, 100)               80400     \n",
      "_________________________________________________________________\n",
      "dense (Dense)                (None, 46)                4646      \n",
      "=================================================================\n",
      "Total params: 185,046\n",
      "Trainable params: 185,046\n",
      "Non-trainable params: 0\n",
      "_________________________________________________________________\n"
     ]
    }
   ],
   "source": [
    "model.summary()"
   ]
  },
  {
   "cell_type": "code",
   "execution_count": 11,
   "id": "7f36469b",
   "metadata": {},
   "outputs": [],
   "source": [
    "# 4*((output + input)*output )"
   ]
  },
  {
   "cell_type": "code",
   "execution_count": 12,
   "id": "db34b087",
   "metadata": {},
   "outputs": [],
   "source": [
    "model.compile(loss='categorical_crossentropy', optimizer='adam', metrics=['accuracy'])"
   ]
  },
  {
   "cell_type": "code",
   "execution_count": 15,
   "id": "fde7196f",
   "metadata": {
    "scrolled": false
   },
   "outputs": [
    {
     "name": "stdout",
     "output_type": "stream",
     "text": [
      "Epoch 1/20\n",
      "90/90 [==============================] - 10s 112ms/step - loss: 2.5777 - accuracy: 0.3497 - val_loss: 2.1698 - val_accuracy: 0.4488\n",
      "Epoch 2/20\n",
      "90/90 [==============================] - 9s 99ms/step - loss: 2.0351 - accuracy: 0.4904 - val_loss: 1.9314 - val_accuracy: 0.5062\n",
      "Epoch 3/20\n",
      "90/90 [==============================] - 9s 95ms/step - loss: 1.8896 - accuracy: 0.5153 - val_loss: 1.8188 - val_accuracy: 0.5227\n",
      "Epoch 4/20\n",
      "90/90 [==============================] - 8s 92ms/step - loss: 1.7248 - accuracy: 0.5533 - val_loss: 1.7089 - val_accuracy: 0.5588\n",
      "Epoch 5/20\n",
      "90/90 [==============================] - 8s 92ms/step - loss: 1.6690 - accuracy: 0.5749 - val_loss: 1.7092 - val_accuracy: 0.5735\n",
      "Epoch 6/20\n",
      "90/90 [==============================] - 8s 92ms/step - loss: 1.6266 - accuracy: 0.5853 - val_loss: 1.6125 - val_accuracy: 0.6051\n",
      "Epoch 7/20\n",
      "90/90 [==============================] - 9s 97ms/step - loss: 1.4977 - accuracy: 0.6204 - val_loss: 1.5190 - val_accuracy: 0.6327\n",
      "Epoch 8/20\n",
      "90/90 [==============================] - 9s 95ms/step - loss: 1.3971 - accuracy: 0.6471 - val_loss: 1.4387 - val_accuracy: 0.6474\n",
      "Epoch 9/20\n",
      "90/90 [==============================] - 9s 96ms/step - loss: 1.2987 - accuracy: 0.6720 - val_loss: 1.4062 - val_accuracy: 0.6407\n",
      "Epoch 10/20\n",
      "90/90 [==============================] - 8s 93ms/step - loss: 1.2189 - accuracy: 0.6893 - val_loss: 1.3479 - val_accuracy: 0.6518\n",
      "Epoch 11/20\n",
      "90/90 [==============================] - 8s 93ms/step - loss: 1.1505 - accuracy: 0.7061 - val_loss: 1.3015 - val_accuracy: 0.6723\n",
      "Epoch 12/20\n",
      "90/90 [==============================] - 8s 93ms/step - loss: 1.0849 - accuracy: 0.7209 - val_loss: 1.2546 - val_accuracy: 0.6785\n",
      "Epoch 13/20\n",
      "90/90 [==============================] - 8s 94ms/step - loss: 1.0344 - accuracy: 0.7356 - val_loss: 1.2345 - val_accuracy: 0.6834\n",
      "Epoch 14/20\n",
      "90/90 [==============================] - 8s 93ms/step - loss: 0.9856 - accuracy: 0.7475 - val_loss: 1.2004 - val_accuracy: 0.7012\n",
      "Epoch 15/20\n",
      "90/90 [==============================] - 9s 95ms/step - loss: 0.9373 - accuracy: 0.7614 - val_loss: 1.1986 - val_accuracy: 0.7088\n",
      "Epoch 16/20\n",
      "90/90 [==============================] - 8s 90ms/step - loss: 0.8909 - accuracy: 0.7738 - val_loss: 1.1902 - val_accuracy: 0.7053\n",
      "Epoch 17/20\n",
      "90/90 [==============================] - 9s 95ms/step - loss: 0.8427 - accuracy: 0.7864 - val_loss: 1.1802 - val_accuracy: 0.7093\n",
      "Epoch 18/20\n",
      "90/90 [==============================] - 8s 94ms/step - loss: 0.8011 - accuracy: 0.7997 - val_loss: 1.1818 - val_accuracy: 0.7021\n",
      "Epoch 19/20\n",
      "90/90 [==============================] - 8s 94ms/step - loss: 0.7712 - accuracy: 0.8057 - val_loss: 1.2234 - val_accuracy: 0.7048\n",
      "Epoch 20/20\n",
      "90/90 [==============================] - 8s 91ms/step - loss: 0.7319 - accuracy: 0.8167 - val_loss: 1.2318 - val_accuracy: 0.7102\n"
     ]
    }
   ],
   "source": [
    "history = model.fit(X_train, y_train, batch_size = 100, epochs=20,\n",
    "                   validation_data=(X_test, y_test))"
   ]
  },
  {
   "cell_type": "code",
   "execution_count": 19,
   "id": "6e51cf1d",
   "metadata": {},
   "outputs": [
    {
     "name": "stdout",
     "output_type": "stream",
     "text": [
      "71/71 [==============================] - 1s 17ms/step - loss: 1.2318 - accuracy: 0.7102\n",
      "Test Accuracy :    1\n"
     ]
    }
   ],
   "source": [
    "print('Test Accuracy : %4.f' %(model.evaluate(X_test, y_test)[1]))"
   ]
  },
  {
   "cell_type": "code",
   "execution_count": 20,
   "id": "df3984fa",
   "metadata": {},
   "outputs": [
    {
     "data": {
      "image/png": "[encoded data removed]",
      "text/plain": [
       "<Figure size 432x288 with 1 Axes>"
      ]
     },
     "metadata": {
      "needs_background": "light"
     },
     "output_type": "display_data"
    }
   ],
   "source": [
    "y_vloss = history.history['val_loss']\n",
    "y_loss = history.history['loss']\n",
    "x_len = np.arange(len(y_loss))\n",
    "plt.plot(x_len, y_vloss, marker='.', c=\"red\", label='Testset_loss')\n",
    "plt.plot(x_len, y_loss, marker='.', c=\"blue\", label='Trainset_loss')\n",
    "plt.legend(loc='upper right')\n",
    "plt.grid()\n",
    "plt.xlabel('epoch')\n",
    "plt.ylabel('loss')\n",
    "plt.show()"
   ]
  },
  {
   "cell_type": "code",
   "execution_count": null,
   "id": "121ead6d",
   "metadata": {},
   "outputs": [],
   "source": []
  }
 ],
 "metadata": {
  "kernelspec": {
   "display_name": "Python 3 (ipykernel)",
   "language": "python",
   "name": "python3"
  },
  "language_info": {
   "codemirror_mode": {
    "name": "ipython",
    "version": 3
   },
   "file_extension": ".py",
   "mimetype": "text/x-python",
   "name": "python",
   "nbconvert_exporter": "python",
   "pygments_lexer": "ipython3",
   "version": "3.8.13"
  }
 },
 "nbformat": 4,
 "nbformat_minor": 5
}
