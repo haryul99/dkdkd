{
 "cells": [
  {
   "cell_type": "code",
   "execution_count": 5,
   "id": "6b2f7514-5a7f-426a-b7cd-9c21b5f618c5",
   "metadata": {},
   "outputs": [
    {
     "name": "stdout",
     "output_type": "stream",
     "text": [
      "22\n",
      "짝수입니다.\n",
      "<class 'tuple'> (15, 5) 15 5\n"
     ]
    }
   ],
   "source": [
    "def my_add(a ,b) :\n",
    "    x = a + b  #return 만나면 호출한 쪽으로 돌아오게 됨\n",
    "    return x\n",
    "y = my_add(10, 12) #return 값을 왼쪽에 대입\n",
    "print(y)\n",
    "22\n",
    "def my_evenadd(a) :\n",
    "    if a % 2 == 0 :\n",
    "        return '짝수입니다.'\n",
    "    else :\n",
    "        return '홀수입니다.'\n",
    "y = my_evenadd(8)\n",
    "print(y)\n",
    "\n",
    "def my_addsub(a, b) :\n",
    "    x = a + b \n",
    "    y = a - b \n",
    "    \n",
    "    return x, y\n",
    "y = my_addsub(10, 5)\n",
    "print(type(y),y,y[0],y[1])"
   ]
  },
  {
   "cell_type": "code",
   "execution_count": 6,
   "id": "6256ed01-cac2-4ccc-b191-0e9da67b69d6",
   "metadata": {},
   "outputs": [
    {
     "name": "stdin",
     "output_type": "stream",
     "text": [
      "원의 반지름 값을 적어주세요. 3\n"
     ]
    },
    {
     "name": "stdout",
     "output_type": "stream",
     "text": [
      "28.26\n"
     ]
    }
   ],
   "source": [
    "def my_o(a) :\n",
    "    r = a*a*3.14\n",
    "    return r\n",
    "r = int(input('원의 반지름 값을 적어주세요.'))\n",
    "y = my_o(r)\n",
    "print(y)"
   ]
  },
  {
   "cell_type": "code",
   "execution_count": 17,
   "id": "0fc616cf-5a88-4479-a30f-8ca311027518",
   "metadata": {},
   "outputs": [
    {
     "name": "stdout",
     "output_type": "stream",
     "text": [
      "1\n",
      "a\n",
      "b\n",
      "c\n",
      "b\n",
      "a\n",
      "{'e': 1, 'lname': 'lee'}\n",
      "1\n"
     ]
    }
   ],
   "source": [
    "def my_failmy(*name) :\n",
    "    for a in name :\n",
    "        print(a)\n",
    "my_failmy(1) \n",
    "    # a = int(input('숫자 기입'))\n",
    "my_failmy('a','b')\n",
    "    # a = int(input('숫자 기입'))\n",
    "    # b = input('글자 기입')\n",
    "my_failmy('c','b','a')\n",
    "    # a = int(input('숫자 기입'))\n",
    "    # b = input('글자 기입')\n",
    "    # c = int(input('숫자 기입'))\n",
    "\n",
    "def my_failmy(**name):\n",
    "    # print(type(name))\n",
    "    print(name)\n",
    "    print(name['e'])\n",
    "my_failmy(e = 1, lname='lee')\n",
    "\n"
   ]
  },
  {
   "cell_type": "code",
   "execution_count": 18,
   "id": "7d0cd2d5-7a4b-4b85-a527-d7b1d5fdf042",
   "metadata": {},
   "outputs": [
    {
     "name": "stdin",
     "output_type": "stream",
     "text": [
      "숫자를 기입하세요 5\n",
      "더할 숫자를 기입하세요 1\n",
      "더할 숫자를 기입하세요 2\n",
      "더할 숫자를 기입하세요 3\n",
      "더할 숫자를 기입하세요 4\n",
      "더할 숫자를 기입하세요 5\n"
     ]
    },
    {
     "name": "stdout",
     "output_type": "stream",
     "text": [
      "15\n"
     ]
    }
   ],
   "source": [
    "def my_UUm(o) :\n",
    "    en = []\n",
    "    while 0 < o :\n",
    "        p = int(input('더할 숫자를 기입하세요'))\n",
    "        en.append(p)\n",
    "        o -= 1\n",
    "    \n",
    "    return(en)\n",
    "\n",
    "def my_sm(q) : # *은 튜플이라는 뜻 \n",
    "    u = 0\n",
    "    for i in q :\n",
    "        u = u + i\n",
    "        \n",
    "    return u\n",
    "x = int(input('숫자를 기입하세요'))\n",
    "\n",
    "a = my_UUm(x)\n",
    "\n",
    "y = my_sm(a) \n",
    "print(y)"
   ]
  },
  {
   "cell_type": "code",
   "execution_count": 24,
   "id": "d1a5e7f4-31ab-4405-b3a1-c90148d35fa2",
   "metadata": {},
   "outputs": [
    {
     "name": "stdout",
     "output_type": "stream",
     "text": [
      "USA er\n",
      "Wa Kor\n",
      "<function my_con at 0x000001B6688BD940> <class 'function'>\n"
     ]
    }
   ],
   "source": [
    "# def my_con(country='Kor') : #기본값 삽입, 그러나 기본값있는게 뒤에 넣어야함\n",
    "#     print(country)\n",
    "def my_con(stack, ry, country='Kor') : #기본값 삽입, 그러나 기본값있는게 뒤에 넣어야함\n",
    "    print(stack, country)    \n",
    "# my_con()\n",
    "my_con('USA', 're', 'er' )\n",
    "my_con('Wa','ef')\n",
    "print(my_con, type(my_con))"
   ]
  },
  {
   "cell_type": "code",
   "execution_count": 27,
   "id": "43560a9e-00d3-40cd-97e3-a4cb4f3ddd8d",
   "metadata": {},
   "outputs": [
    {
     "name": "stdin",
     "output_type": "stream",
     "text": [
      "합을 구할 숫자의 갯수를 입력하세요. 1\n",
      "수를 입력하세요. 1\n"
     ]
    },
    {
     "name": "stdout",
     "output_type": "stream",
     "text": [
      "1\n"
     ]
    },
    {
     "name": "stdin",
     "output_type": "stream",
     "text": [
      "숫자를 기입하세요 1\n",
      "제곱숫자를 기입하세요 1\n"
     ]
    },
    {
     "name": "stdout",
     "output_type": "stream",
     "text": [
      "거듭제곱의 수는 1입니다.\n"
     ]
    },
    {
     "name": "stdin",
     "output_type": "stream",
     "text": [
      "수를 넣어보세요 1\n",
      "수를 넣어보세요 1\n"
     ]
    },
    {
     "name": "stdout",
     "output_type": "stream",
     "text": [
      "2 <class 'list'>\n"
     ]
    }
   ],
   "source": [
    "def my_ho(v) :\n",
    "    ssm = []\n",
    "    i = 0\n",
    "    for z in range(v) :\n",
    "        i = int(input('수를 입력하세요.'))\n",
    "        ssm.append(i)\n",
    "    return(ssm)\n",
    "    \n",
    "def my_ssm(a) :\n",
    "    n = 0\n",
    "    for i in a :\n",
    "        n = n + i\n",
    "    return(n)  \n",
    "a = int(input('합을 구할 숫자의 갯수를 입력하세요.'))\n",
    "\n",
    "b = my_ho(a)\n",
    "\n",
    "m = my_ssm(b)\n",
    "print(m)\n",
    "\n",
    "pow(3,2) #base, exp의 거듭제곱\n",
    "9\n",
    "\n",
    "x = int(input('숫자를 기입하세요'))\n",
    "y = int(input('제곱숫자를 기입하세요'))\n",
    "\n",
    "z = pow(x,y)\n",
    "\n",
    "print('거듭제곱의 수는 %d입니다.'%z)\n",
    "# 거듭제곱의 수는 32입니다.\n",
    "\n",
    "x = []\n",
    "\n",
    "a = int(input('수를 넣어보세요')) \n",
    "b = int(input('수를 넣어보세요')) \n",
    "\n",
    "x.append(a)\n",
    "x.append(b)\n",
    "\n",
    "p = sum(x)\n",
    "print(p, type(x))\n",
    "# 12 <class 'list'>"
   ]
  },
  {
   "cell_type": "code",
   "execution_count": 28,
   "id": "c3c0655f-fc20-4d09-afc2-06c6fb94d705",
   "metadata": {},
   "outputs": [
    {
     "name": "stdout",
     "output_type": "stream",
     "text": [
      "5555 bmw\n",
      "4444 benz\n"
     ]
    }
   ],
   "source": [
    "#틀을 만드는 것\n",
    "class Car() :\n",
    "#     id = '1234'\n",
    "#     name = 'bmw'\n",
    "#     speed = 100\n",
    "    \n",
    "    def __init__(self, id, name) : #생성자 초기화\n",
    "        self.id = id\n",
    "        self.name = name\n",
    "        \n",
    "    def my_print(self):\n",
    "        print(self.id, self.name)\n",
    "\n",
    "    def get_id(self) :                 #self는 클래스 내부에서만 사용할 수 있는 것\n",
    "        return self.id\n",
    "    \n",
    "    def get_name(self):\n",
    "        return self.name\n",
    "    \n",
    "#객체 생성\n",
    "c1 = Car('5555', 'bmw') #생성자를 통한 변수 변경\n",
    "c2 = Car('4444', 'benz')\n",
    "\n",
    "# c1.id = '20'  #값 변경\n",
    "# c2.name = 'audi'\n",
    "# print(c1.id, c1.name)\n",
    "# print(c2.id, c2.name)\n",
    "\n",
    "c1.my_print()\n",
    "c2.my_print()"
   ]
  },
  {
   "cell_type": "code",
   "execution_count": 29,
   "id": "2f3eb2cd-34fc-44c4-9b97-9ec1d9c4ab29",
   "metadata": {},
   "outputs": [
    {
     "name": "stdout",
     "output_type": "stream",
     "text": [
      "bmw\n"
     ]
    }
   ],
   "source": [
    "f = c1.get_id()\n",
    "c = c2.get_id()\n",
    "a = c1.get_name()\n",
    "print(a)"
   ]
  },
  {
   "cell_type": "code",
   "execution_count": 31,
   "id": "8c8c6332-9221-4be4-bafd-b91f6c66924f",
   "metadata": {},
   "outputs": [
    {
     "name": "stdout",
     "output_type": "stream",
     "text": [
      "<class '__main__.Car'>\n",
      "[<__main__.Car object at 0x000001B6687AF040>, <__main__.Car object at 0x000001B6687AF400>] <class 'list'>\n",
      "5555\n"
     ]
    }
   ],
   "source": [
    "# print(f) 만든 return값 출력\n",
    "# print(c)\n",
    "print(type(c1))\n",
    "\n",
    "cars = [c1, c2]\n",
    "print(cars,type(cars))\n",
    "x = cars[0].get_id()\n",
    "print(x)\n",
    "\n",
    "for x in cars :\n",
    "    x.get_id()"
   ]
  },
  {
   "cell_type": "code",
   "execution_count": 34,
   "id": "5593c1b7-fc69-465e-8638-ecf135df4e9f",
   "metadata": {},
   "outputs": [
    {
     "name": "stdout",
     "output_type": "stream",
     "text": [
      "haryul 22\n",
      "haryul 22\n",
      "soryul 25\n"
     ]
    }
   ],
   "source": [
    "class Person() :\n",
    "    # name = '박하률'\n",
    "    # age = '23'\n",
    "    def __init__(self, name, age) :\n",
    "        self.name = name\n",
    "        self.age = age\n",
    "        \n",
    "    def my_print(self) :\n",
    "        print(self.name, self.age)\n",
    "#객체생성    \n",
    "p1 = Person('haryul','22')\n",
    "p2 = Person('soryul','25')\n",
    "\n",
    "print(p1.name, p1.age)\n",
    "\n",
    "p1.my_print()\n",
    "p2.my_print()\n"
   ]
  },
  {
   "cell_type": "code",
   "execution_count": 42,
   "id": "c6e59f59-19df-4e5e-ac57-ec038744e71c",
   "metadata": {},
   "outputs": [
    {
     "name": "stdout",
     "output_type": "stream",
     "text": [
      "A학생의 총점은 210입니다.\n",
      "B학생의 총점은 210입니다.\n",
      "C학생의 총점은 230입니다.\n",
      "D학생의 총점은 120입니다.\n",
      "E학생의 총점은 90입니다.\n"
     ]
    },
    {
     "data": {
      "text/plain": [
       "860"
      ]
     },
     "execution_count": 42,
     "metadata": {},
     "output_type": "execute_result"
    }
   ],
   "source": [
    "class Student() :\n",
    "    \n",
    "    def __init__(self, name, kor, eng, math) :\n",
    "        self.name = name\n",
    "        self.kor = kor\n",
    "        self.eng = eng\n",
    "        self.math = math\n",
    "        \n",
    "    def get_sum(self) :\n",
    "        a = self.kor + self.eng + self.math\n",
    "        return a\n",
    "    \n",
    "    def get_name(self) :\n",
    "        return self.name\n",
    "    \n",
    "hi = []\n",
    "\n",
    "student1 = Student('A',10,100,100)\n",
    "student2 = Student('B',70,50,90)\n",
    "student3 = Student('C',60,90,80)\n",
    "student4 = Student('D',50,10,60)\n",
    "student5 = Student('E',20,30,40)                   \n",
    "\n",
    "aaa = [u1,u2,u3,u4,u5]\n",
    "\n",
    "\n",
    "u1 = student1.get_sum()\n",
    "u2 = student2.get_sum()\n",
    "u3 = student3.get_sum()\n",
    "u4 = student4.get_sum()\n",
    "u5 = student5.get_sum()\n",
    "\n",
    "n1 = student1.get_name()\n",
    "n2 = student2.get_name()\n",
    "n3 = student3.get_name()\n",
    "n4 = student4.get_name()\n",
    "n5 = student5.get_name()\n",
    "\n",
    "print('%s학생의 총점은 %d입니다.' %(n1, u1))\n",
    "print('%s학생의 총점은 %d입니다.' %(n2, u2))\n",
    "print('%s학생의 총점은 %d입니다.' %(n3, u3))\n",
    "print('%s학생의 총점은 %d입니다.' %(n4, u4))\n",
    "print('%s학생의 총점은 %d입니다.' %(n5, u5))\n",
    "\n",
    "\n",
    "for n in aaa :\n",
    "    hi.append(n)\n",
    "    \n",
    "sum(hi)\n",
    "\n",
    " "
   ]
  }
 ],
 "metadata": {
  "kernelspec": {
   "display_name": "Python 3 (ipykernel)",
   "language": "python",
   "name": "python3"
  },
  "language_info": {
   "codemirror_mode": {
    "name": "ipython",
    "version": 3
   },
   "file_extension": ".py",
   "mimetype": "text/x-python",
   "name": "python",
   "nbconvert_exporter": "python",
   "pygments_lexer": "ipython3",
   "version": "3.9.7"
  }
 },
 "nbformat": 4,
 "nbformat_minor": 5
}
