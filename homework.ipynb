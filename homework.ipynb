{
 "cells": [
  {
   "cell_type": "code",
   "execution_count": null,
   "id": "76c86e99-9379-406f-a6ca-36e41c8b034e",
   "metadata": {},
   "outputs": [
    {
     "name": "stdin",
     "output_type": "stream",
     "text": [
      "숫자를 유추해보세요! 234\n"
     ]
    },
    {
     "name": "stdout",
     "output_type": "stream",
     "text": [
      "다시 시도해보세요, 기회가 9번 남았습니다.\n"
     ]
    },
    {
     "name": "stdin",
     "output_type": "stream",
     "text": [
      "숫자를 유추해보세요! 23\n"
     ]
    },
    {
     "name": "stdout",
     "output_type": "stream",
     "text": [
      "다시 시도해보세요, 기회가 8번 남았습니다.\n"
     ]
    },
    {
     "name": "stdin",
     "output_type": "stream",
     "text": [
      "숫자를 유추해보세요! 5\n"
     ]
    },
    {
     "name": "stdout",
     "output_type": "stream",
     "text": [
      "다시 시도해보세요, 기회가 7번 남았습니다.\n"
     ]
    },
    {
     "name": "stdin",
     "output_type": "stream",
     "text": [
      "숫자를 유추해보세요! 5\n"
     ]
    },
    {
     "name": "stdout",
     "output_type": "stream",
     "text": [
      "다시 시도해보세요, 기회가 6번 남았습니다.\n"
     ]
    },
    {
     "name": "stdin",
     "output_type": "stream",
     "text": [
      "숫자를 유추해보세요! 5\n"
     ]
    },
    {
     "name": "stdout",
     "output_type": "stream",
     "text": [
      "다시 시도해보세요, 기회가 5번 남았습니다.\n"
     ]
    },
    {
     "name": "stdin",
     "output_type": "stream",
     "text": [
      "숫자를 유추해보세요! 5\n"
     ]
    },
    {
     "name": "stdout",
     "output_type": "stream",
     "text": [
      "다시 시도해보세요, 기회가 4번 남았습니다.\n"
     ]
    },
    {
     "name": "stdin",
     "output_type": "stream",
     "text": [
      "숫자를 유추해보세요! 5\n"
     ]
    },
    {
     "name": "stdout",
     "output_type": "stream",
     "text": [
      "다시 시도해보세요, 기회가 3번 남았습니다.\n"
     ]
    },
    {
     "name": "stdin",
     "output_type": "stream",
     "text": [
      "숫자를 유추해보세요! 5\n"
     ]
    },
    {
     "name": "stdout",
     "output_type": "stream",
     "text": [
      "다시 시도해보세요, 기회가 2번 남았습니다.\n"
     ]
    }
   ],
   "source": [
    "answer = 162\n",
    "chance = 10\n",
    "qustion = int(input('숫자를 유추해보세요!'))\n",
    "                    \n",
    "while chance >= 0 : #answer == qustion   \n",
    "    if answer == qustion :\n",
    "        print('축하합니다! %d번 만에 맞추셨네요!'%chance)\n",
    "        break\n",
    "    else :\n",
    "        chance -= 1\n",
    "        print('다시 시도해보세요, 기회가 %d번 남았습니다.' %chance)\n",
    "        qustion = int(input('숫자를 유추해보세요!'))\n",
    "    if chance == 0 :\n",
    "        print('기회를 모두 잃었습니다.')\n",
    "        break"
   ]
  },
  {
   "cell_type": "code",
   "execution_count": 2,
   "id": "6ed43f88-9c75-498d-84f8-0276f15254cd",
   "metadata": {},
   "outputs": [
    {
     "name": "stdin",
     "output_type": "stream",
     "text": [
      "숫자 3중에 아무거나 적으세요. 46\n"
     ]
    },
    {
     "name": "stdout",
     "output_type": "stream",
     "text": [
      "상\n"
     ]
    }
   ],
   "source": [
    "num = int(input('숫자 3중에 아무거나 적으세요.'))\n",
    "          \n",
    "if num >= 3 :\n",
    "    print('상')\n",
    "elif num >= 2 :\n",
    "    print('중')\n",
    "else :\n",
    "    print('하')"
   ]
  }
 ],
 "metadata": {
  "kernelspec": {
   "display_name": "Python 3 (ipykernel)",
   "language": "python",
   "name": "python3"
  },
  "language_info": {
   "codemirror_mode": {
    "name": "ipython",
    "version": 3
   },
   "file_extension": ".py",
   "mimetype": "text/x-python",
   "name": "python",
   "nbconvert_exporter": "python",
   "pygments_lexer": "ipython3",
   "version": "3.9.7"
  }
 },
 "nbformat": 4,
 "nbformat_minor": 5
}
