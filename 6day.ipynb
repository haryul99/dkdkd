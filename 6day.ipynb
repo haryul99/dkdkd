{
 "cells": [
  {
   "cell_type": "code",
   "execution_count": 289,
   "id": "c7a6a3e4-cab2-46cf-a8df-1bc5964f8322",
   "metadata": {},
   "outputs": [
    {
     "name": "stdout",
     "output_type": "stream",
     "text": [
      "<class 'str'>\n",
      "<class 'list'>\n",
      "John\n",
      "<class 'str'>\n",
      "<class 'str'>\n"
     ]
    }
   ],
   "source": [
    "import json\n",
    "\n",
    "json_string = '''[{\n",
    "                    \"name\" : \"John\",\n",
    "                    \"age\" : 30,\n",
    "                    \"city\" : \"New York\"},\n",
    "                  { \"name\" : \"tohn\",\n",
    "                    \"age\" : 20,\n",
    "                    \"city\" : \"York\"                   \n",
    "                    }] '''\n",
    "\n",
    "python_list = json.loads(json_string)\n",
    "print(type(json_string))\n",
    "print(type(python_list))\n",
    "\n",
    "for n in python_list :\n",
    "    # print(type(n))  #json형식을  list로 변환한 후 list는 []형식을 사용해 index 삽입\n",
    "    a = n[\"age\"]\n",
    "    if a == 30 :\n",
    "        v = n[\"name\"]\n",
    "        print(v)\n",
    "        \n",
    "python_list = json.dumps(json_string)\n",
    "print(type(json_string))\n",
    "print(type(python_list))"
   ]
  },
  {
   "cell_type": "code",
   "execution_count": 35,
   "id": "f906a941-93d6-4952-acf4-ec642a25d06a",
   "metadata": {},
   "outputs": [],
   "source": [
    "f = open(\"test.txt\", \"w\") # t는 생략(txt) 쓰기 모드로 파일 오픈(기존에 파일 존재하면 삭제하고 새로 생성)\n",
    "\n",
    "f.write(\"텍스트 파일을 새로 만들고 텍스트를 씁니다. \\n\")\n",
    "f.write(\"텍스트 파일을 새로 만들고 텍스트를 씁니다. \\n\")\n",
    "f.close()"
   ]
  },
  {
   "cell_type": "code",
   "execution_count": 36,
   "id": "410158de-75e0-4c75-8f52-853b1d1e6837",
   "metadata": {},
   "outputs": [],
   "source": [
    "f = open(\"test.txt\", \"w\", encoding=\"utf-8\") # t는 생략(txt)\n",
    "\n",
    "f.write(\"텍스트 파일을 새로 만들고 텍스트를 씁니다. \\n\")\n",
    "f.write(\"텍스트 파일을 새로 만들고 텍스트를 씁니다. \\n\")\n",
    "f.close()"
   ]
  },
  {
   "cell_type": "code",
   "execution_count": 56,
   "id": "08789544-731b-4028-96e2-472f94489b61",
   "metadata": {},
   "outputs": [
    {
     "name": "stdout",
     "output_type": "stream",
     "text": [
      "['텍스트 파일을 새로 만들고 텍스트를 씁니다. \\n', '텍스트 파일을 새로 만들고 텍스트를 씁니다. \\n'] <class 'list'>\n",
      "텍스트 파일을 새로 만들고 텍스트를 씁니다. \n",
      "\n",
      "텍스트 파일을 새로 만들고 텍스트를 씁니다. \n",
      "\n"
     ]
    }
   ],
   "source": [
    "f = open(\"test.txt\", \"r\", encoding=\"utf-8\") # t는 생략(txt)\n",
    "# # f.read(10)\n",
    "# print( f.readline())\n",
    "# print( f.readline())\n",
    "# print( f.readline())\n",
    "\n",
    "\n",
    "\n",
    "# while True :  #무한 루프\n",
    "#     x = f.readline()\n",
    "#     if x != '' :\n",
    "#         print(x)\n",
    "#     else :\n",
    "#         break\n",
    "        \n",
    "z = f.readlines() #모두 읽음\n",
    "print(z,type(z))\n",
    "\n",
    "\n",
    "for i in z :\n",
    "    print(i)\n",
    "    \n",
    "\n",
    "\n",
    "f.close()"
   ]
  },
  {
   "cell_type": "code",
   "execution_count": 92,
   "id": "8a34f5d9-32ad-4702-a137-a890bf92b251",
   "metadata": {},
   "outputs": [],
   "source": [
    "with open(\"text1.txt\", \"a\", encoding=\"utf-8\") as test : # auto close\n",
    "    test.write(\"테스트 입니다1. \\n\")\n",
    "    test.write(\"테스트 입니다2. \\n\")"
   ]
  },
  {
   "cell_type": "code",
   "execution_count": 94,
   "id": "bc1aa1f1-034a-4787-bc2e-ba48ec0b01ab",
   "metadata": {},
   "outputs": [
    {
     "name": "stdout",
     "output_type": "stream",
     "text": [
      "['테스트 입니다1. \\n', '테스트 입니다2. \\n']\n"
     ]
    }
   ],
   "source": [
    "with open(\"text1.txt\", \"r\", encoding=\"utf-8\") as test : # auto close\n",
    "    d = test.readlines()\n",
    "    print(d)"
   ]
  },
  {
   "cell_type": "code",
   "execution_count": 139,
   "id": "98f71d2e-b359-49c4-a624-8c74885bfd86",
   "metadata": {},
   "outputs": [],
   "source": [
    "json_string = '''[{\n",
    "                    \"name\" : \"John\",\n",
    "                    \"age\" : 30,\n",
    "                    \"city\" : \"New York\"},\n",
    "                  { \"name\" : \"tohn\",\n",
    "                    \"age\" : 20,\n",
    "                    \"city\" : \"York\"                   \n",
    "                    }] '''\n",
    "with open(\"json_string.json\", \"w\", encoding=\"utf-8\") as f :\n",
    "    d = f.write(json_string)"
   ]
  },
  {
   "cell_type": "code",
   "execution_count": 140,
   "id": "acfb3703-3c91-4228-8fe2-53ba4deae0cb",
   "metadata": {},
   "outputs": [
    {
     "name": "stdout",
     "output_type": "stream",
     "text": [
      "[{'name': 'John', 'age': 30, 'city': 'New York'}, {'name': 'tohn', 'age': 20, 'city': 'York'}]\n"
     ]
    }
   ],
   "source": [
    "import json\n",
    "with open('json_string.json', 'r', encoding=\"utf-8\" ) as a :\n",
    "    pp = json.load(a)\n",
    "    print(pp)"
   ]
  },
  {
   "cell_type": "code",
   "execution_count": 155,
   "id": "9694c1a0-9ee2-4be0-917a-204cc985d99b",
   "metadata": {},
   "outputs": [
    {
     "name": "stdout",
     "output_type": "stream",
     "text": [
      "{\"message\":\"API rate limit exceeded for 183.98.215.25. (But here's the good news: Authenticated requests get a higher rate limit. Check out the documentation for more details.)\",\"documentation_url\":\"https://docs.github.com/rest/overview/resources-in-the-rest-api#rate-limiting\"}\n",
      "\n"
     ]
    }
   ],
   "source": [
    "import requests\n",
    "import json\n",
    "# 가지고 올 때\n",
    "response = requests.get('https://api.github.com/')\n",
    "\n",
    "# print(type(response))\n",
    "\n",
    "# response.status_code\n",
    "\n",
    "# if response.status_code == 200 :\n",
    "# print(response.content)\n",
    "print(response.text)\n",
    "json_object = json.dumps(response.text)\n",
    "# print(json_object['current_user_url'])  \n",
    "    \n",
    "with open(\"json_object.json\",\"w\",encoding=\"utf-8\") as a :\n",
    "    ee = a.write(json_object)\n"
   ]
  },
  {
   "cell_type": "code",
   "execution_count": 166,
   "id": "e75c1ca7-57c7-49b4-ade7-bb24cd5264d8",
   "metadata": {},
   "outputs": [
    {
     "name": "stdout",
     "output_type": "stream",
     "text": [
      "<class 're.Pattern'>\n",
      "<re.Match object; span=(0, 1), match='a'>\n",
      "<re.Match object; span=(0, 1), match='b'>\n",
      "<re.Match object; span=(0, 1), match='a'>\n"
     ]
    }
   ],
   "source": [
    "import re\n",
    "\n",
    "p = re.compile('[A-z]')\n",
    "print(type(p))\n",
    "print(p.match('a'))\n",
    "print(p.match('b'))\n",
    "print(p.match('acZ'))"
   ]
  },
  {
   "cell_type": "code",
   "execution_count": 216,
   "id": "0e99941d-d243-48b3-96fe-edf103eb760b",
   "metadata": {},
   "outputs": [
    {
     "name": "stdout",
     "output_type": "stream",
     "text": [
      "<re.Match object; span=(0, 3), match='a\\nb'>\n",
      "<re.Match object; span=(0, 1), match='p'>\n",
      "None\n",
      "None\n"
     ]
    }
   ],
   "source": [
    "# p = re.compile('a.b')\n",
    "p = re.compile('a.b', re.DOTALL)\n",
    "\n",
    "print(p.match('a\\nb'))\n",
    "\n",
    "#대소문자 구분x\n",
    "p = re.compile('[a-z]')\n",
    "# p = re.compile('[a-z]',re.I)\n",
    "               \n",
    "print(p.match('python'))\n",
    "print(p.match('Python'))\n",
    "print(p.match('PYTHON'))\n",
    "#match는 한 글자 만"
   ]
  },
  {
   "cell_type": "code",
   "execution_count": 184,
   "id": "4ef8c6d6-c0bf-4539-9e19-5c284a41de21",
   "metadata": {},
   "outputs": [
    {
     "name": "stdout",
     "output_type": "stream",
     "text": [
      "['python one', 'python two', 'python three']\n",
      "<re.Match object; span=(0, 10), match='python one'>\n"
     ]
    }
   ],
   "source": [
    "# \\s 공백 \\w 문자\n",
    "\n",
    "# p = re.compile(\"^python\\s\\w+\")\n",
    "p = re.compile(\"^python\\s\\w+\",re.MULTILINE)\n",
    "\n",
    "data = \"\"\"python one\n",
    "life is too short\n",
    "python two\n",
    "you need python\n",
    "python three\"\"\"\n",
    "\n",
    "print(p.findall(data))\n",
    "print(p.match(data))\n",
    "\n",
    "p = re.compile('[a-z]+') #영문자 여러개"
   ]
  },
  {
   "cell_type": "code",
   "execution_count": 186,
   "id": "2cb2ad42-76c6-4dfa-a3b3-269c524c0b76",
   "metadata": {},
   "outputs": [
    {
     "name": "stdout",
     "output_type": "stream",
     "text": [
      "<re.Match object; span=(0, 5), match='aaaaa'>\n",
      "<re.Match object; span=(0, 7), match='bbbbbbb'>\n",
      "None\n",
      "0\n",
      "5\n"
     ]
    }
   ],
   "source": [
    "print(p.match('aaaaa'))\n",
    "print(p.match('bbbbbbb'))\n",
    "print(p.match('1aaa'))\n",
    "#시작부터 일치하는 거 찾는 것\n",
    "x = p.match('baaaa1aaa')\n",
    "print(x.start())\n",
    "print(x.end())"
   ]
  },
  {
   "cell_type": "code",
   "execution_count": 198,
   "id": "79d3ad65-fc8f-4bbb-b017-7d112fed686b",
   "metadata": {},
   "outputs": [
    {
     "name": "stdout",
     "output_type": "stream",
     "text": [
      "2\n",
      "5\n",
      "['aaa']\n",
      "['aaa']\n",
      "['a']\n",
      "['a', 'a', 'aa', 'aaa', 'a']\n"
     ]
    }
   ],
   "source": [
    "#마지막 것만 cheak + 처음부터가 아님\n",
    "p.search('aaaaa')\n",
    "\n",
    "p.search('11aaaaa')\n",
    "\n",
    "p.search('aaa11aaa')\n",
    "\n",
    "p.search('1aaa11aaa1')\n",
    "\n",
    "x = p.search('11aaa11aa')\n",
    "print(x.start())\n",
    "print(x.end())\n",
    "\n",
    "#interator list라고 생각, 다 찾는 것 findall\n",
    "\n",
    "p.findall('aaa')\n",
    "v = p.findall('aaa')\n",
    "print(v)\n",
    "\n",
    "p.findall('11aaa')\n",
    "v = p.findall('11aaa')\n",
    "print(v)\n",
    "p.findall('1a1A1A')\n",
    "v = p.findall('1a1A1A')\n",
    "print(v)\n",
    "p.findall('1a1a1aa1aaa1a')\n",
    "v = p.findall('1a1a1aa1aaa1a')\n",
    "print(v)"
   ]
  },
  {
   "cell_type": "code",
   "execution_count": 200,
   "id": "65cc2738-c4ce-4c5f-83f1-a81afde330b2",
   "metadata": {},
   "outputs": [
    {
     "name": "stdout",
     "output_type": "stream",
     "text": [
      "<re.Match object; span=(0, 1), match='a'>\n",
      "<re.Match object; span=(2, 4), match='bb'>\n",
      "<re.Match object; span=(5, 7), match='cc'>\n"
     ]
    }
   ],
   "source": [
    "iterator = p.finditer('a1bb1cc')\n",
    "\n",
    "for i in iterator:\n",
    "    print(i)"
   ]
  },
  {
   "cell_type": "code",
   "execution_count": 220,
   "id": "84124a16-8db2-4aac-8c53-44bb7419c949",
   "metadata": {},
   "outputs": [
    {
     "name": "stdout",
     "output_type": "stream",
     "text": [
      "['22', '23', '25', '21']\n",
      "['Haryul', 'Theon', 'Soryul', 'Joey']\n"
     ]
    }
   ],
   "source": [
    "import re\n",
    "\n",
    "Nameage = '''\n",
    "Haryul is 22 and Theon is 23\n",
    "Soryul is 25 and Joey is 21\n",
    "'''\n",
    "\n",
    "d = re.compile('\\d{1,3}') # NNN 숫자\n",
    "d.findall(Nameage)\n",
    "print(d.findall(Nameage))\n",
    "\n",
    "a = re.compile('[A-Z][a-z]*')  #\\w* 대소문자 상관 없이 *여러번(0번 이상)  [] = 한글자\n",
    "print(a.findall(Nameage))"
   ]
  },
  {
   "cell_type": "code",
   "execution_count": 264,
   "id": "a493f8ca-51c5-4017-9e9c-1c605e5e6759",
   "metadata": {},
   "outputs": [
    {
     "name": "stdout",
     "output_type": "stream",
     "text": [
      "{'Haryul': '22', 'Theon': '23', 'Soryul': '25', 'Joey': '21'}\n"
     ]
    }
   ],
   "source": [
    "dic = {}\n",
    "\n",
    "# for v in a.findall(Nameage) :\n",
    "#     dic.append(v)\n",
    " \n",
    "age = d.findall(Nameage)    \n",
    "    \n",
    "# for n in a.findall(Nameage) :\n",
    "#     dic[n] = 'gg'\n",
    "    \n",
    "i = 0    \n",
    "for r in a.findall(Nameage) :\n",
    "    dic[r] = age[i]\n",
    "    i = i + 1\n",
    "    \n",
    "print(dic)\n",
    "\n",
    "#recast쓰고 .get 텍스트 파일로 저장\n",
    "#사이트를 긁어서 phone.txt로 전화번호만 넣음"
   ]
  },
  {
   "cell_type": "code",
   "execution_count": 288,
   "id": "0d6d9070-3ab4-47c7-a575-3c82c5f85ae2",
   "metadata": {},
   "outputs": [
    {
     "name": "stdout",
     "output_type": "stream",
     "text": [
      "['(257) 563-7401', '(372) 587-2335', '(786) 713-8616', '(793) 151-6230', '(492) 709-6392', '(654) 393-5734', '(404) 960-3807', '(314) 244-6306', '(947) 278-5929', '(684) 579-1879', '(389) 737-2852', '(660) 663-4518', '(608) 265-2215', '(959) 119-8364', '(468) 353-2641', '(248) 675-4007', '(939) 353-1107', '(570) 873-7090', '(302) 259-2375', '(717) 450-4729', '(453) 391-4650', '(559) 104-5475', '(387) 142-9434', '(516) 745-4496', '(326) 677-3419', '(746) 679-2470', '(455) 430-0989', '(490) 936-4694', '(985) 834-8285', '(662) 661-1446', '(802) 668-8240', '(477) 768-9247', '(791) 239-9057', '(832) 109-0213', '(837) 196-3274', '(268) 442-2428', '(850) 676-5117', '(861) 546-5032', '(176) 805-4108', '(715) 912-6931', '(993) 554-0563', '(357) 616-5411', '(121) 347-0086', '(304) 506-6314', '(425) 288-2332', '(145) 987-4962', '(187) 582-9707', '(750) 558-3965', '(492) 467-3131', '(774) 914-2510', '(888) 106-8550', '(539) 567-3573', '(693) 337-2849', '(545) 604-9386', '(221) 156-5026', '(414) 876-0865', '(932) 726-8645', '(726) 710-9826', '(622) 594-1662', '(948) 600-8503', '(605) 900-7508', '(716) 977-5775', '(368) 239-8275', '(725) 342-0650', '(711) 993-5187', '(882) 399-5084', '(287) 755-9948', '(659) 551-3389', '(275) 730-6868', '(725) 757-4047', '(314) 882-1496', '(639) 360-7590', '(168) 222-1592', '(896) 303-1164', '(203) 982-6130', '(906) 217-1470', '(614) 514-1269', '(763) 409-5446', '(836) 292-5324', '(926) 709-3295', '(963) 356-9268', '(736) 522-8584', '(410) 483-0352', '(252) 204-1434', '(874) 886-4174', '(581) 379-7573', '(983) 632-8597', '(295) 983-3476', '(873) 392-8802', '(360) 669-3923', '(840) 987-9449', '(422) 517-6053', '(126) 940-2753', '(427) 930-5255', '(689) 721-5145', '(676) 334-2174', '(437) 994-5270', '(564) 908-6970', '(577) 333-6244', '(655) 840-6139']\n"
     ]
    }
   ],
   "source": [
    "import requests\n",
    "import json\n",
    "import re\n",
    "\n",
    "# 가지고 올 때\n",
    "response = requests.get('https://www.summet.com/dmsi/html/codesamples/addresses.html')\n",
    "\n",
    "\n",
    "\n",
    "aIl = response.text\n",
    "\n",
    "# print(aIl)\n",
    "\n",
    "p = re.compile(\"\\(\\d{3}\\) \\d{3}-\\d{4}\")\n",
    "print(p.findall(aIl))\n",
    "\n",
    "phone_num = p.findall(aIl)\n",
    "\n",
    "# print(phone_num)\n",
    "\n",
    "with open(\"phone_num.txt\", \"w\", encoding=\"utf-8\") as phone :\n",
    "    for n in phone_num :\n",
    "        phone.write('%s \\n' %n)\n",
    "\n",
    "# with open(\"https://www.summet.com/dmsi/html/codesamples/addresses.html\", \"r\", encoding=\"utf-8\") as test : # auto close\n",
    "#     d = test.readlines()\n",
    "#     print(d)"
   ]
  }
 ],
 "metadata": {
  "kernelspec": {
   "display_name": "Python 3 (ipykernel)",
   "language": "python",
   "name": "python3"
  },
  "language_info": {
   "codemirror_mode": {
    "name": "ipython",
    "version": 3
   },
   "file_extension": ".py",
   "mimetype": "text/x-python",
   "name": "python",
   "nbconvert_exporter": "python",
   "pygments_lexer": "ipython3",
   "version": "3.9.7"
  }
 },
 "nbformat": 4,
 "nbformat_minor": 5
}
